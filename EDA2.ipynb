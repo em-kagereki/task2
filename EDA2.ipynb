{
  "nbformat": 4,
  "nbformat_minor": 0,
  "metadata": {
    "colab": {
      "name": "EDA2",
      "provenance": [],
      "collapsed_sections": [],
      "authorship_tag": "ABX9TyNapd8Fp6OJqUtFcWHt1e1+",
      "include_colab_link": true
    },
    "kernelspec": {
      "name": "python3",
      "display_name": "Python 3"
    },
    "language_info": {
      "name": "python"
    }
  },
  "cells": [
    {
      "cell_type": "markdown",
      "metadata": {
        "id": "view-in-github",
        "colab_type": "text"
      },
      "source": [
        "<a href=\"https://colab.research.google.com/github/em-kagereki/task2/blob/manin/EDA2.ipynb\" target=\"_parent\"><img src=\"https://colab.research.google.com/assets/colab-badge.svg\" alt=\"Open In Colab\"/></a>"
      ]
    },
    {
      "cell_type": "markdown",
      "metadata": {
        "id": "sUNLaw-LSJXo"
      },
      "source": [
        "# **Exploratory data analysis**\n",
        "\n",
        "\n",
        "### Objective\n",
        "\n",
        "<hr>\n",
        "\n",
        "1. Load libraries and setup\n",
        "2. Load data\n",
        "3. Data overview:each of the dataset will be assessed individually.\n",
        "\n",
        "*   Summary statistics\n",
        "*   Visualization\n",
        "\n",
        "3. Assess and correct any issues with the quality of data:\n",
        "\n",
        "*   Accuracy\n",
        "  - Do the data have the expected values.\n",
        "  - Skewed values\n",
        "*   Completeness\n",
        "  - Check missngness.\n",
        "*   Consistency\n",
        "  - Any obvious discrepancy\n",
        "*   Currency\n",
        "  - Run a check on the dates. \n",
        "*   Relevance\n",
        "  - Check for data with no meaningful meta-data\n",
        "*   Validity\n",
        "  - Check if data contains allowable values.\n",
        "*   Uniquesness\n",
        "  - Duplicates.\n",
        "\n",
        "4. Data joins\n",
        "\n",
        "5. Assess some associations.\n",
        "\n",
        "\n",
        "<hr>"
      ]
    },
    {
      "cell_type": "code",
      "metadata": {
        "id": "2N0H5YHhWGty"
      },
      "source": [
        "import seaborn as sns\n",
        "import matplotlib.pyplot as mat\n",
        "import pandas as pd\n",
        "import sklearn as sk\n",
        "import numpy as nu\n",
        "import pickle\n",
        "import os\n",
        "from statsmodels.graphics.mosaicplot import mosaic\n",
        "\n",
        "# Comment this if the data visualisations doesn't work on your side\n",
        "%matplotlib inline"
      ],
      "execution_count": 64,
      "outputs": []
    },
    {
      "cell_type": "code",
      "metadata": {
        "id": "sISwtl8cW_ET"
      },
      "source": [
        "## Data over view  - History data\n",
        "hist = pd.read_csv('ml_case_training_hist_data.csv',parse_dates=True)  \n",
        "clientProfile = pd.read_csv('ml_case_training_data.csv',parse_dates=True)  \n",
        "outcome = pd.read_csv('ml_case_training_output.csv')  \n"
      ],
      "execution_count": 274,
      "outputs": []
    },
    {
      "cell_type": "markdown",
      "metadata": {
        "id": "GTOAQ7i0XzXw"
      },
      "source": [
        "# Historical pricing data"
      ]
    },
    {
      "cell_type": "code",
      "metadata": {
        "colab": {
          "base_uri": "https://localhost:8080/",
          "height": 224
        },
        "id": "DzmkkFeRXw7b",
        "outputId": "439dd3c3-c512-4418-a153-6eb6b15c29e4"
      },
      "source": [
        "hist.head()\n",
        "hist.tail()\n"
      ],
      "execution_count": 66,
      "outputs": [
        {
          "output_type": "execute_result",
          "data": {
            "text/html": [
              "<div>\n",
              "<style scoped>\n",
              "    .dataframe tbody tr th:only-of-type {\n",
              "        vertical-align: middle;\n",
              "    }\n",
              "\n",
              "    .dataframe tbody tr th {\n",
              "        vertical-align: top;\n",
              "    }\n",
              "\n",
              "    .dataframe thead th {\n",
              "        text-align: right;\n",
              "    }\n",
              "</style>\n",
              "<table border=\"1\" class=\"dataframe\">\n",
              "  <thead>\n",
              "    <tr style=\"text-align: right;\">\n",
              "      <th></th>\n",
              "      <th>id</th>\n",
              "      <th>price_date</th>\n",
              "      <th>price_p1_var</th>\n",
              "      <th>price_p2_var</th>\n",
              "      <th>price_p3_var</th>\n",
              "      <th>price_p1_fix</th>\n",
              "      <th>price_p2_fix</th>\n",
              "      <th>price_p3_fix</th>\n",
              "    </tr>\n",
              "  </thead>\n",
              "  <tbody>\n",
              "    <tr>\n",
              "      <th>192997</th>\n",
              "      <td>16f51cdc2baa19af0b940ee1b3dd17d5</td>\n",
              "      <td>2015-08-01</td>\n",
              "      <td>0.119916</td>\n",
              "      <td>0.102232</td>\n",
              "      <td>0.076257</td>\n",
              "      <td>40.728885</td>\n",
              "      <td>24.43733</td>\n",
              "      <td>16.291555</td>\n",
              "    </tr>\n",
              "    <tr>\n",
              "      <th>192998</th>\n",
              "      <td>16f51cdc2baa19af0b940ee1b3dd17d5</td>\n",
              "      <td>2015-09-01</td>\n",
              "      <td>0.119916</td>\n",
              "      <td>0.102232</td>\n",
              "      <td>0.076257</td>\n",
              "      <td>40.728885</td>\n",
              "      <td>24.43733</td>\n",
              "      <td>16.291555</td>\n",
              "    </tr>\n",
              "    <tr>\n",
              "      <th>192999</th>\n",
              "      <td>16f51cdc2baa19af0b940ee1b3dd17d5</td>\n",
              "      <td>2015-10-01</td>\n",
              "      <td>0.119916</td>\n",
              "      <td>0.102232</td>\n",
              "      <td>0.076257</td>\n",
              "      <td>40.728885</td>\n",
              "      <td>24.43733</td>\n",
              "      <td>16.291555</td>\n",
              "    </tr>\n",
              "    <tr>\n",
              "      <th>193000</th>\n",
              "      <td>16f51cdc2baa19af0b940ee1b3dd17d5</td>\n",
              "      <td>2015-11-01</td>\n",
              "      <td>0.119916</td>\n",
              "      <td>0.102232</td>\n",
              "      <td>0.076257</td>\n",
              "      <td>40.728885</td>\n",
              "      <td>24.43733</td>\n",
              "      <td>16.291555</td>\n",
              "    </tr>\n",
              "    <tr>\n",
              "      <th>193001</th>\n",
              "      <td>16f51cdc2baa19af0b940ee1b3dd17d5</td>\n",
              "      <td>2015-12-01</td>\n",
              "      <td>0.119916</td>\n",
              "      <td>0.102232</td>\n",
              "      <td>0.076257</td>\n",
              "      <td>40.728885</td>\n",
              "      <td>24.43733</td>\n",
              "      <td>16.291555</td>\n",
              "    </tr>\n",
              "  </tbody>\n",
              "</table>\n",
              "</div>"
            ],
            "text/plain": [
              "                                      id  ... price_p3_fix\n",
              "192997  16f51cdc2baa19af0b940ee1b3dd17d5  ...    16.291555\n",
              "192998  16f51cdc2baa19af0b940ee1b3dd17d5  ...    16.291555\n",
              "192999  16f51cdc2baa19af0b940ee1b3dd17d5  ...    16.291555\n",
              "193000  16f51cdc2baa19af0b940ee1b3dd17d5  ...    16.291555\n",
              "193001  16f51cdc2baa19af0b940ee1b3dd17d5  ...    16.291555\n",
              "\n",
              "[5 rows x 8 columns]"
            ]
          },
          "metadata": {
            "tags": []
          },
          "execution_count": 66
        }
      ]
    },
    {
      "cell_type": "code",
      "metadata": {
        "colab": {
          "base_uri": "https://localhost:8080/"
        },
        "id": "Kg-7EgVyYMKV",
        "outputId": "a316a155-8394-4eb2-be9e-d4f8c9ea2f4f"
      },
      "source": [
        "hist.shape"
      ],
      "execution_count": 67,
      "outputs": [
        {
          "output_type": "execute_result",
          "data": {
            "text/plain": [
              "(193002, 8)"
            ]
          },
          "metadata": {
            "tags": []
          },
          "execution_count": 67
        }
      ]
    },
    {
      "cell_type": "code",
      "metadata": {
        "colab": {
          "base_uri": "https://localhost:8080/",
          "height": 297
        },
        "id": "J9n_dfwnYM5g",
        "outputId": "8515a906-377c-4ecf-d19e-af491edddaf9"
      },
      "source": [
        "hist.describe()"
      ],
      "execution_count": 68,
      "outputs": [
        {
          "output_type": "execute_result",
          "data": {
            "text/html": [
              "<div>\n",
              "<style scoped>\n",
              "    .dataframe tbody tr th:only-of-type {\n",
              "        vertical-align: middle;\n",
              "    }\n",
              "\n",
              "    .dataframe tbody tr th {\n",
              "        vertical-align: top;\n",
              "    }\n",
              "\n",
              "    .dataframe thead th {\n",
              "        text-align: right;\n",
              "    }\n",
              "</style>\n",
              "<table border=\"1\" class=\"dataframe\">\n",
              "  <thead>\n",
              "    <tr style=\"text-align: right;\">\n",
              "      <th></th>\n",
              "      <th>price_p1_var</th>\n",
              "      <th>price_p2_var</th>\n",
              "      <th>price_p3_var</th>\n",
              "      <th>price_p1_fix</th>\n",
              "      <th>price_p2_fix</th>\n",
              "      <th>price_p3_fix</th>\n",
              "    </tr>\n",
              "  </thead>\n",
              "  <tbody>\n",
              "    <tr>\n",
              "      <th>count</th>\n",
              "      <td>191643.000000</td>\n",
              "      <td>191643.000000</td>\n",
              "      <td>191643.000000</td>\n",
              "      <td>191643.000000</td>\n",
              "      <td>191643.000000</td>\n",
              "      <td>191643.000000</td>\n",
              "    </tr>\n",
              "    <tr>\n",
              "      <th>mean</th>\n",
              "      <td>0.140991</td>\n",
              "      <td>0.054412</td>\n",
              "      <td>0.030712</td>\n",
              "      <td>43.325546</td>\n",
              "      <td>10.698201</td>\n",
              "      <td>6.455436</td>\n",
              "    </tr>\n",
              "    <tr>\n",
              "      <th>std</th>\n",
              "      <td>0.025117</td>\n",
              "      <td>0.050033</td>\n",
              "      <td>0.036335</td>\n",
              "      <td>5.437952</td>\n",
              "      <td>12.856046</td>\n",
              "      <td>7.782279</td>\n",
              "    </tr>\n",
              "    <tr>\n",
              "      <th>min</th>\n",
              "      <td>0.000000</td>\n",
              "      <td>0.000000</td>\n",
              "      <td>0.000000</td>\n",
              "      <td>-0.177779</td>\n",
              "      <td>-0.097752</td>\n",
              "      <td>-0.065172</td>\n",
              "    </tr>\n",
              "    <tr>\n",
              "      <th>25%</th>\n",
              "      <td>0.125976</td>\n",
              "      <td>0.000000</td>\n",
              "      <td>0.000000</td>\n",
              "      <td>40.728885</td>\n",
              "      <td>0.000000</td>\n",
              "      <td>0.000000</td>\n",
              "    </tr>\n",
              "    <tr>\n",
              "      <th>50%</th>\n",
              "      <td>0.146033</td>\n",
              "      <td>0.085483</td>\n",
              "      <td>0.000000</td>\n",
              "      <td>44.266930</td>\n",
              "      <td>0.000000</td>\n",
              "      <td>0.000000</td>\n",
              "    </tr>\n",
              "    <tr>\n",
              "      <th>75%</th>\n",
              "      <td>0.151635</td>\n",
              "      <td>0.101780</td>\n",
              "      <td>0.072558</td>\n",
              "      <td>44.444710</td>\n",
              "      <td>24.339581</td>\n",
              "      <td>16.226389</td>\n",
              "    </tr>\n",
              "    <tr>\n",
              "      <th>max</th>\n",
              "      <td>0.280700</td>\n",
              "      <td>0.229788</td>\n",
              "      <td>0.114102</td>\n",
              "      <td>59.444710</td>\n",
              "      <td>36.490692</td>\n",
              "      <td>17.458221</td>\n",
              "    </tr>\n",
              "  </tbody>\n",
              "</table>\n",
              "</div>"
            ],
            "text/plain": [
              "        price_p1_var   price_p2_var  ...   price_p2_fix   price_p3_fix\n",
              "count  191643.000000  191643.000000  ...  191643.000000  191643.000000\n",
              "mean        0.140991       0.054412  ...      10.698201       6.455436\n",
              "std         0.025117       0.050033  ...      12.856046       7.782279\n",
              "min         0.000000       0.000000  ...      -0.097752      -0.065172\n",
              "25%         0.125976       0.000000  ...       0.000000       0.000000\n",
              "50%         0.146033       0.085483  ...       0.000000       0.000000\n",
              "75%         0.151635       0.101780  ...      24.339581      16.226389\n",
              "max         0.280700       0.229788  ...      36.490692      17.458221\n",
              "\n",
              "[8 rows x 6 columns]"
            ]
          },
          "metadata": {
            "tags": []
          },
          "execution_count": 68
        }
      ]
    },
    {
      "cell_type": "code",
      "metadata": {
        "colab": {
          "base_uri": "https://localhost:8080/"
        },
        "id": "RucSMxKcYQlz",
        "outputId": "b60d0d59-0aad-49c8-c1ae-a83b52ff2aa8"
      },
      "source": [
        "hist.nunique()"
      ],
      "execution_count": 69,
      "outputs": [
        {
          "output_type": "execute_result",
          "data": {
            "text/plain": [
              "id              16096\n",
              "price_date         12\n",
              "price_p1_var     1853\n",
              "price_p2_var     1189\n",
              "price_p3_var      711\n",
              "price_p1_fix       69\n",
              "price_p2_fix       33\n",
              "price_p3_fix       30\n",
              "dtype: int64"
            ]
          },
          "metadata": {
            "tags": []
          },
          "execution_count": 69
        }
      ]
    },
    {
      "cell_type": "markdown",
      "metadata": {
        "id": "lCaJXfeDbUD8"
      },
      "source": [
        "Important points\n",
        "\n",
        "*   A total of 191643 records with 16096 unique IDs.\n",
        "*   Each consumer had the reading done in multiple days.\n",
        "*   Negative measurements for the price_p1_fix and price_p2_fix minimum values. This could be a possible typo\n",
        "\n",
        "\n"
      ]
    },
    {
      "cell_type": "markdown",
      "metadata": {
        "id": "OFSIsGQiYoiN"
      },
      "source": [
        "Accuracy"
      ]
    },
    {
      "cell_type": "code",
      "metadata": {
        "id": "3slAQIFkYSmL"
      },
      "source": [
        "# We first need to transform the date.\n",
        "# Then check for the data-types.\n",
        "# Then check for the outliers\n",
        "\n",
        "format = '%Y-%m-%d'\n",
        "hist['price_date'] = pd.to_datetime(hist['price_date'] , format=format)\n",
        "hist = hist.set_index(pd.DatetimeIndex(hist['price_date']))"
      ],
      "execution_count": 70,
      "outputs": []
    },
    {
      "cell_type": "code",
      "metadata": {
        "colab": {
          "base_uri": "https://localhost:8080/"
        },
        "id": "LfDH_428Zwbb",
        "outputId": "d94f920f-e1f3-4f0c-cd6a-5e4ea85d91e9"
      },
      "source": [
        "hist.dtypes"
      ],
      "execution_count": 71,
      "outputs": [
        {
          "output_type": "execute_result",
          "data": {
            "text/plain": [
              "id                      object\n",
              "price_date      datetime64[ns]\n",
              "price_p1_var           float64\n",
              "price_p2_var           float64\n",
              "price_p3_var           float64\n",
              "price_p1_fix           float64\n",
              "price_p2_fix           float64\n",
              "price_p3_fix           float64\n",
              "dtype: object"
            ]
          },
          "metadata": {
            "tags": []
          },
          "execution_count": 71
        }
      ]
    },
    {
      "cell_type": "code",
      "metadata": {
        "colab": {
          "base_uri": "https://localhost:8080/",
          "height": 266
        },
        "id": "xh2cqzM2aolj",
        "outputId": "f2991d27-8ecb-47cc-8fc9-a1a4e98e6f94"
      },
      "source": [
        "boxplot = hist.boxplot(column=['price_p1_var'])"
      ],
      "execution_count": 72,
      "outputs": [
        {
          "output_type": "display_data",
          "data": {
            "image/png": "[encoded data removed]",
            "text/plain": [
              "<Figure size 432x288 with 1 Axes>"
            ]
          },
          "metadata": {
            "tags": [],
            "needs_background": "light"
          }
        }
      ]
    },
    {
      "cell_type": "code",
      "metadata": {
        "colab": {
          "base_uri": "https://localhost:8080/",
          "height": 266
        },
        "id": "i4UnXUEvc84V",
        "outputId": "9f8cda91-9329-4d48-9546-d1fb9582203a"
      },
      "source": [
        "boxplot = hist.boxplot(column=['price_p2_var'])"
      ],
      "execution_count": 73,
      "outputs": [
        {
          "output_type": "display_data",
          "data": {
            "image/png": "[encoded data removed]",
            "text/plain": [
              "<Figure size 432x288 with 1 Axes>"
            ]
          },
          "metadata": {
            "tags": [],
            "needs_background": "light"
          }
        }
      ]
    },
    {
      "cell_type": "code",
      "metadata": {
        "colab": {
          "base_uri": "https://localhost:8080/",
          "height": 266
        },
        "id": "vSDIhhF8c-sT",
        "outputId": "b6b84f01-8530-4913-d592-9c7905178783"
      },
      "source": [
        "boxplot = hist.boxplot(column=['price_p3_var'])"
      ],
      "execution_count": 74,
      "outputs": [
        {
          "output_type": "display_data",
          "data": {
            "image/png": "[encoded data removed]",
            "text/plain": [
              "<Figure size 432x288 with 1 Axes>"
            ]
          },
          "metadata": {
            "tags": [],
            "needs_background": "light"
          }
        }
      ]
    },
    {
      "cell_type": "code",
      "metadata": {
        "colab": {
          "base_uri": "https://localhost:8080/",
          "height": 266
        },
        "id": "-Wari8_Qc-ca",
        "outputId": "7aace784-ee1d-48c0-e939-5282bee49259"
      },
      "source": [
        "boxplot = hist.boxplot(column=['price_p1_fix'])"
      ],
      "execution_count": 75,
      "outputs": [
        {
          "output_type": "display_data",
          "data": {
            "image/png": "[encoded data removed]",
            "text/plain": [
              "<Figure size 432x288 with 1 Axes>"
            ]
          },
          "metadata": {
            "tags": [],
            "needs_background": "light"
          }
        }
      ]
    },
    {
      "cell_type": "code",
      "metadata": {
        "colab": {
          "base_uri": "https://localhost:8080/",
          "height": 266
        },
        "id": "nXbj-V2Bc-AD",
        "outputId": "bbe2e2e7-e9ab-45a3-af6d-dad2515d8713"
      },
      "source": [
        "boxplot = hist.boxplot(column=['price_p2_fix'])"
      ],
      "execution_count": 76,
      "outputs": [
        {
          "output_type": "display_data",
          "data": {
            "image/png": "[encoded data removed]",
            "text/plain": [
              "<Figure size 432x288 with 1 Axes>"
            ]
          },
          "metadata": {
            "tags": [],
            "needs_background": "light"
          }
        }
      ]
    },
    {
      "cell_type": "code",
      "metadata": {
        "colab": {
          "base_uri": "https://localhost:8080/",
          "height": 266
        },
        "id": "cUVs9nmZdJem",
        "outputId": "9d3a3679-c94f-426f-836a-fa21f679fc66"
      },
      "source": [
        "boxplot = hist.boxplot(column=['price_p2_fix'])"
      ],
      "execution_count": 77,
      "outputs": [
        {
          "output_type": "display_data",
          "data": {
            "image/png": "[encoded data removed]",
            "text/plain": [
              "<Figure size 432x288 with 1 Axes>"
            ]
          },
          "metadata": {
            "tags": [],
            "needs_background": "light"
          }
        }
      ]
    },
    {
      "cell_type": "code",
      "metadata": {
        "colab": {
          "base_uri": "https://localhost:8080/"
        },
        "id": "nQAEdCJoe5wo",
        "outputId": "d4c6f05c-6806-4fdc-b77f-2b29884b5eab"
      },
      "source": [
        "hist.price_date.min()"
      ],
      "execution_count": 78,
      "outputs": [
        {
          "output_type": "execute_result",
          "data": {
            "text/plain": [
              "Timestamp('2015-01-01 00:00:00')"
            ]
          },
          "metadata": {
            "tags": []
          },
          "execution_count": 78
        }
      ]
    },
    {
      "cell_type": "code",
      "metadata": {
        "colab": {
          "base_uri": "https://localhost:8080/"
        },
        "id": "9bGJqcnzfEsf",
        "outputId": "6d0711a9-3ab7-49ed-ccc7-f54daca4859e"
      },
      "source": [
        "hist.price_date.max()"
      ],
      "execution_count": 79,
      "outputs": [
        {
          "output_type": "execute_result",
          "data": {
            "text/plain": [
              "Timestamp('2015-12-01 00:00:00')"
            ]
          },
          "metadata": {
            "tags": []
          },
          "execution_count": 79
        }
      ]
    },
    {
      "cell_type": "markdown",
      "metadata": {
        "id": "QOuUAtakfND1"
      },
      "source": [
        "Summary on the accuracy of Historical pricing data accuracy data:\n",
        "\n",
        "\n",
        "\n",
        "1.   Timeline is between 2015-01-01 to 2015-12-01. This is 11 months on data, with no unrealistic dates.\n",
        "2.   There are obvious  outliers with \"price_p1_fix\" and  \"price_p1_var\" values\n",
        "\n",
        "The outliers will be managed in the pre-prosessing step.\n",
        "\n",
        "\n"
      ]
    },
    {
      "cell_type": "markdown",
      "metadata": {
        "id": "tiu-s9LCgbhM"
      },
      "source": [
        "Missing data"
      ]
    },
    {
      "cell_type": "code",
      "metadata": {
        "colab": {
          "base_uri": "https://localhost:8080/"
        },
        "id": "uEn6bIWAiGhG",
        "outputId": "1802d02e-7ed6-4cfe-db5e-32b46fd0dbf1"
      },
      "source": [
        "hist.isnull().sum()"
      ],
      "execution_count": 80,
      "outputs": [
        {
          "output_type": "execute_result",
          "data": {
            "text/plain": [
              "id                 0\n",
              "price_date         0\n",
              "price_p1_var    1359\n",
              "price_p2_var    1359\n",
              "price_p3_var    1359\n",
              "price_p1_fix    1359\n",
              "price_p2_fix    1359\n",
              "price_p3_fix    1359\n",
              "dtype: int64"
            ]
          },
          "metadata": {
            "tags": []
          },
          "execution_count": 80
        }
      ]
    },
    {
      "cell_type": "code",
      "metadata": {
        "colab": {
          "base_uri": "https://localhost:8080/",
          "height": 410
        },
        "id": "XHm2M0eCjOzV",
        "outputId": "7ab2ff5d-198a-4cbb-c506-f3dfa153e172"
      },
      "source": [
        "missing = hist[hist.isnull().any(axis=1)]\n",
        "missing.head(10)"
      ],
      "execution_count": 81,
      "outputs": [
        {
          "output_type": "execute_result",
          "data": {
            "text/html": [
              "<div>\n",
              "<style scoped>\n",
              "    .dataframe tbody tr th:only-of-type {\n",
              "        vertical-align: middle;\n",
              "    }\n",
              "\n",
              "    .dataframe tbody tr th {\n",
              "        vertical-align: top;\n",
              "    }\n",
              "\n",
              "    .dataframe thead th {\n",
              "        text-align: right;\n",
              "    }\n",
              "</style>\n",
              "<table border=\"1\" class=\"dataframe\">\n",
              "  <thead>\n",
              "    <tr style=\"text-align: right;\">\n",
              "      <th></th>\n",
              "      <th>id</th>\n",
              "      <th>price_date</th>\n",
              "      <th>price_p1_var</th>\n",
              "      <th>price_p2_var</th>\n",
              "      <th>price_p3_var</th>\n",
              "      <th>price_p1_fix</th>\n",
              "      <th>price_p2_fix</th>\n",
              "      <th>price_p3_fix</th>\n",
              "    </tr>\n",
              "    <tr>\n",
              "      <th>price_date</th>\n",
              "      <th></th>\n",
              "      <th></th>\n",
              "      <th></th>\n",
              "      <th></th>\n",
              "      <th></th>\n",
              "      <th></th>\n",
              "      <th></th>\n",
              "      <th></th>\n",
              "    </tr>\n",
              "  </thead>\n",
              "  <tbody>\n",
              "    <tr>\n",
              "      <th>2015-04-01</th>\n",
              "      <td>ef716222bbd97a8bdfcbb831e3575560</td>\n",
              "      <td>2015-04-01</td>\n",
              "      <td>NaN</td>\n",
              "      <td>NaN</td>\n",
              "      <td>NaN</td>\n",
              "      <td>NaN</td>\n",
              "      <td>NaN</td>\n",
              "      <td>NaN</td>\n",
              "    </tr>\n",
              "    <tr>\n",
              "      <th>2015-06-01</th>\n",
              "      <td>0f5231100b2febab862f8dd8eaab3f43</td>\n",
              "      <td>2015-06-01</td>\n",
              "      <td>NaN</td>\n",
              "      <td>NaN</td>\n",
              "      <td>NaN</td>\n",
              "      <td>NaN</td>\n",
              "      <td>NaN</td>\n",
              "      <td>NaN</td>\n",
              "    </tr>\n",
              "    <tr>\n",
              "      <th>2015-06-01</th>\n",
              "      <td>2f93639de582fadfbe3e86ce1c8d8f35</td>\n",
              "      <td>2015-06-01</td>\n",
              "      <td>NaN</td>\n",
              "      <td>NaN</td>\n",
              "      <td>NaN</td>\n",
              "      <td>NaN</td>\n",
              "      <td>NaN</td>\n",
              "      <td>NaN</td>\n",
              "    </tr>\n",
              "    <tr>\n",
              "      <th>2015-06-01</th>\n",
              "      <td>f83c1ab1ca1d1802bb1df4d72820243c</td>\n",
              "      <td>2015-06-01</td>\n",
              "      <td>NaN</td>\n",
              "      <td>NaN</td>\n",
              "      <td>NaN</td>\n",
              "      <td>NaN</td>\n",
              "      <td>NaN</td>\n",
              "      <td>NaN</td>\n",
              "    </tr>\n",
              "    <tr>\n",
              "      <th>2015-06-01</th>\n",
              "      <td>3076c6d4a060e12a049d1700d9b09cf3</td>\n",
              "      <td>2015-06-01</td>\n",
              "      <td>NaN</td>\n",
              "      <td>NaN</td>\n",
              "      <td>NaN</td>\n",
              "      <td>NaN</td>\n",
              "      <td>NaN</td>\n",
              "      <td>NaN</td>\n",
              "    </tr>\n",
              "    <tr>\n",
              "      <th>2015-04-01</th>\n",
              "      <td>33bb3af90650ac2e9ecac6ff2c975a6b</td>\n",
              "      <td>2015-04-01</td>\n",
              "      <td>NaN</td>\n",
              "      <td>NaN</td>\n",
              "      <td>NaN</td>\n",
              "      <td>NaN</td>\n",
              "      <td>NaN</td>\n",
              "      <td>NaN</td>\n",
              "    </tr>\n",
              "    <tr>\n",
              "      <th>2015-05-01</th>\n",
              "      <td>33bb3af90650ac2e9ecac6ff2c975a6b</td>\n",
              "      <td>2015-05-01</td>\n",
              "      <td>NaN</td>\n",
              "      <td>NaN</td>\n",
              "      <td>NaN</td>\n",
              "      <td>NaN</td>\n",
              "      <td>NaN</td>\n",
              "      <td>NaN</td>\n",
              "    </tr>\n",
              "    <tr>\n",
              "      <th>2015-08-01</th>\n",
              "      <td>33bb3af90650ac2e9ecac6ff2c975a6b</td>\n",
              "      <td>2015-08-01</td>\n",
              "      <td>NaN</td>\n",
              "      <td>NaN</td>\n",
              "      <td>NaN</td>\n",
              "      <td>NaN</td>\n",
              "      <td>NaN</td>\n",
              "      <td>NaN</td>\n",
              "    </tr>\n",
              "    <tr>\n",
              "      <th>2015-09-01</th>\n",
              "      <td>33bb3af90650ac2e9ecac6ff2c975a6b</td>\n",
              "      <td>2015-09-01</td>\n",
              "      <td>NaN</td>\n",
              "      <td>NaN</td>\n",
              "      <td>NaN</td>\n",
              "      <td>NaN</td>\n",
              "      <td>NaN</td>\n",
              "      <td>NaN</td>\n",
              "    </tr>\n",
              "    <tr>\n",
              "      <th>2015-12-01</th>\n",
              "      <td>0e90101b08183cc9548e827e4b256f47</td>\n",
              "      <td>2015-12-01</td>\n",
              "      <td>NaN</td>\n",
              "      <td>NaN</td>\n",
              "      <td>NaN</td>\n",
              "      <td>NaN</td>\n",
              "      <td>NaN</td>\n",
              "      <td>NaN</td>\n",
              "    </tr>\n",
              "  </tbody>\n",
              "</table>\n",
              "</div>"
            ],
            "text/plain": [
              "                                          id  ... price_p3_fix\n",
              "price_date                                    ...             \n",
              "2015-04-01  ef716222bbd97a8bdfcbb831e3575560  ...          NaN\n",
              "2015-06-01  0f5231100b2febab862f8dd8eaab3f43  ...          NaN\n",
              "2015-06-01  2f93639de582fadfbe3e86ce1c8d8f35  ...          NaN\n",
              "2015-06-01  f83c1ab1ca1d1802bb1df4d72820243c  ...          NaN\n",
              "2015-06-01  3076c6d4a060e12a049d1700d9b09cf3  ...          NaN\n",
              "2015-04-01  33bb3af90650ac2e9ecac6ff2c975a6b  ...          NaN\n",
              "2015-05-01  33bb3af90650ac2e9ecac6ff2c975a6b  ...          NaN\n",
              "2015-08-01  33bb3af90650ac2e9ecac6ff2c975a6b  ...          NaN\n",
              "2015-09-01  33bb3af90650ac2e9ecac6ff2c975a6b  ...          NaN\n",
              "2015-12-01  0e90101b08183cc9548e827e4b256f47  ...          NaN\n",
              "\n",
              "[10 rows x 8 columns]"
            ]
          },
          "metadata": {
            "tags": []
          },
          "execution_count": 81
        }
      ]
    },
    {
      "cell_type": "code",
      "metadata": {
        "colab": {
          "base_uri": "https://localhost:8080/"
        },
        "id": "Bc_glfhPjfoc",
        "outputId": "b8c5e9a9-5b53-4a34-c10f-d896148d907f"
      },
      "source": [
        "missing.price_date.min()"
      ],
      "execution_count": 82,
      "outputs": [
        {
          "output_type": "execute_result",
          "data": {
            "text/plain": [
              "Timestamp('2015-01-01 00:00:00')"
            ]
          },
          "metadata": {
            "tags": []
          },
          "execution_count": 82
        }
      ]
    },
    {
      "cell_type": "code",
      "metadata": {
        "colab": {
          "base_uri": "https://localhost:8080/"
        },
        "id": "4YCMS35gjn__",
        "outputId": "d757060e-d51b-4cca-c5c6-c74ae79057ce"
      },
      "source": [
        "missing.price_date.max()"
      ],
      "execution_count": 83,
      "outputs": [
        {
          "output_type": "execute_result",
          "data": {
            "text/plain": [
              "Timestamp('2015-12-01 00:00:00')"
            ]
          },
          "metadata": {
            "tags": []
          },
          "execution_count": 83
        }
      ]
    },
    {
      "cell_type": "code",
      "metadata": {
        "colab": {
          "base_uri": "https://localhost:8080/"
        },
        "id": "i_9Vq-rCk56T",
        "outputId": "258f99d6-d652-4f3a-e5c9-aabebe3baa16"
      },
      "source": [
        "missing.shape"
      ],
      "execution_count": 84,
      "outputs": [
        {
          "output_type": "execute_result",
          "data": {
            "text/plain": [
              "(1359, 8)"
            ]
          },
          "metadata": {
            "tags": []
          },
          "execution_count": 84
        }
      ]
    },
    {
      "cell_type": "code",
      "metadata": {
        "colab": {
          "base_uri": "https://localhost:8080/"
        },
        "id": "odsnG_0skbRG",
        "outputId": "eee47558-c8ac-4542-8e2c-61c341f6a52d"
      },
      "source": [
        "missing.id.nunique()"
      ],
      "execution_count": 85,
      "outputs": [
        {
          "output_type": "execute_result",
          "data": {
            "text/plain": [
              "1207"
            ]
          },
          "metadata": {
            "tags": []
          },
          "execution_count": 85
        }
      ]
    },
    {
      "cell_type": "code",
      "metadata": {
        "colab": {
          "base_uri": "https://localhost:8080/",
          "height": 336
        },
        "id": "qND6yyvog2bb",
        "outputId": "b280708d-6eaf-46a9-fac1-9523985aecd1"
      },
      "source": [
        "sns.heatmap(hist.isnull(),yticklabels=False,cbar=False,cmap='viridis')"
      ],
      "execution_count": 86,
      "outputs": [
        {
          "output_type": "execute_result",
          "data": {
            "text/plain": [
              "<matplotlib.axes._subplots.AxesSubplot at 0x7f9119eb9610>"
            ]
          },
          "metadata": {
            "tags": []
          },
          "execution_count": 86
        },
        {
          "output_type": "display_data",
          "data": {
            "image/png": "[encoded data removed]",
            "text/plain": [
              "<Figure size 432x288 with 1 Axes>"
            ]
          },
          "metadata": {
            "tags": [],
            "needs_background": "light"
          }
        }
      ]
    },
    {
      "cell_type": "markdown",
      "metadata": {
        "id": "3j9IXwwimxiL"
      },
      "source": [
        "Summary on the missingness of this data:\n",
        "\n",
        "\n",
        "\n",
        "*   From the heatmap, all the price values were missing with the dates present.\n",
        "*   135 entries were missing from 1207 customers. This prbably indicates that there were some days that the prices were not generated.\n",
        "\n",
        "This means that it is safe to impute the values based on the time. That will be done below\n",
        "\n"
      ]
    },
    {
      "cell_type": "code",
      "metadata": {
        "colab": {
          "base_uri": "https://localhost:8080/",
          "height": 336
        },
        "id": "J5_gAIajnkSc",
        "outputId": "4b63af69-c34f-4583-d0fb-925b97ad3f67"
      },
      "source": [
        "# Impute the missing values\n",
        "\n",
        "hist = hist.interpolate(method=\"time\")\n",
        "sns.heatmap(hist.isnull(),yticklabels=False,cbar=False,cmap='viridis')"
      ],
      "execution_count": 87,
      "outputs": [
        {
          "output_type": "execute_result",
          "data": {
            "text/plain": [
              "<matplotlib.axes._subplots.AxesSubplot at 0x7f9119e7dc10>"
            ]
          },
          "metadata": {
            "tags": []
          },
          "execution_count": 87
        },
        {
          "output_type": "display_data",
          "data": {
            "image/png": "[encoded data removed]",
            "text/plain": [
              "<Figure size 432x288 with 1 Axes>"
            ]
          },
          "metadata": {
            "tags": [],
            "needs_background": "light"
          }
        }
      ]
    },
    {
      "cell_type": "code",
      "metadata": {
        "colab": {
          "base_uri": "https://localhost:8080/"
        },
        "id": "JidlBVWEgi6y",
        "outputId": "6f3a617c-65ae-4455-e180-774d397df1b4"
      },
      "source": [
        "len(hist)-len(hist.drop_duplicates())"
      ],
      "execution_count": 88,
      "outputs": [
        {
          "output_type": "execute_result",
          "data": {
            "text/plain": [
              "0"
            ]
          },
          "metadata": {
            "tags": []
          },
          "execution_count": 88
        }
      ]
    },
    {
      "cell_type": "markdown",
      "metadata": {
        "id": "0PngZgo8g0Ks"
      },
      "source": [
        "There were no other potential threats to the quality of this dataset. \n",
        "\n",
        "\n",
        "\n",
        "\n",
        "\n",
        "\n",
        "---\n",
        "\n",
        "\n",
        "\n",
        "\n",
        "\n",
        "\n",
        "\n",
        "\n",
        "\n",
        "\n",
        "\n"
      ]
    },
    {
      "cell_type": "markdown",
      "metadata": {
        "id": "-_K--55PoOc6"
      },
      "source": [
        "**The churn data**"
      ]
    },
    {
      "cell_type": "code",
      "metadata": {
        "colab": {
          "base_uri": "https://localhost:8080/"
        },
        "id": "jB4dFW4DoUl8",
        "outputId": "6526e7ec-947b-4ee5-cbee-e5cb57ce89cd"
      },
      "source": [
        "outcome = pd.read_csv('ml_case_training_output.csv')  \n",
        "outcome.shape"
      ],
      "execution_count": 89,
      "outputs": [
        {
          "output_type": "execute_result",
          "data": {
            "text/plain": [
              "(16096, 2)"
            ]
          },
          "metadata": {
            "tags": []
          },
          "execution_count": 89
        }
      ]
    },
    {
      "cell_type": "code",
      "metadata": {
        "colab": {
          "base_uri": "https://localhost:8080/",
          "height": 204
        },
        "id": "fMqUoVv5puDz",
        "outputId": "4b1494a4-64c1-4383-bcce-5d1134a0227a"
      },
      "source": [
        "outcome.head()\n",
        "outcome.tail()"
      ],
      "execution_count": 90,
      "outputs": [
        {
          "output_type": "execute_result",
          "data": {
            "text/html": [
              "<div>\n",
              "<style scoped>\n",
              "    .dataframe tbody tr th:only-of-type {\n",
              "        vertical-align: middle;\n",
              "    }\n",
              "\n",
              "    .dataframe tbody tr th {\n",
              "        vertical-align: top;\n",
              "    }\n",
              "\n",
              "    .dataframe thead th {\n",
              "        text-align: right;\n",
              "    }\n",
              "</style>\n",
              "<table border=\"1\" class=\"dataframe\">\n",
              "  <thead>\n",
              "    <tr style=\"text-align: right;\">\n",
              "      <th></th>\n",
              "      <th>id</th>\n",
              "      <th>churn</th>\n",
              "    </tr>\n",
              "  </thead>\n",
              "  <tbody>\n",
              "    <tr>\n",
              "      <th>16091</th>\n",
              "      <td>18463073fb097fc0ac5d3e040f356987</td>\n",
              "      <td>0</td>\n",
              "    </tr>\n",
              "    <tr>\n",
              "      <th>16092</th>\n",
              "      <td>d0a6f71671571ed83b2645d23af6de00</td>\n",
              "      <td>1</td>\n",
              "    </tr>\n",
              "    <tr>\n",
              "      <th>16093</th>\n",
              "      <td>10e6828ddd62cbcf687cb74928c4c2d2</td>\n",
              "      <td>1</td>\n",
              "    </tr>\n",
              "    <tr>\n",
              "      <th>16094</th>\n",
              "      <td>1cf20fd6206d7678d5bcafd28c53b4db</td>\n",
              "      <td>0</td>\n",
              "    </tr>\n",
              "    <tr>\n",
              "      <th>16095</th>\n",
              "      <td>563dde550fd624d7352f3de77c0cdfcd</td>\n",
              "      <td>0</td>\n",
              "    </tr>\n",
              "  </tbody>\n",
              "</table>\n",
              "</div>"
            ],
            "text/plain": [
              "                                     id  churn\n",
              "16091  18463073fb097fc0ac5d3e040f356987      0\n",
              "16092  d0a6f71671571ed83b2645d23af6de00      1\n",
              "16093  10e6828ddd62cbcf687cb74928c4c2d2      1\n",
              "16094  1cf20fd6206d7678d5bcafd28c53b4db      0\n",
              "16095  563dde550fd624d7352f3de77c0cdfcd      0"
            ]
          },
          "metadata": {
            "tags": []
          },
          "execution_count": 90
        }
      ]
    },
    {
      "cell_type": "code",
      "metadata": {
        "colab": {
          "base_uri": "https://localhost:8080/",
          "height": 296
        },
        "id": "BkG5Q8CJq6R6",
        "outputId": "3522d38d-9d02-423d-a322-339595762c6f"
      },
      "source": [
        "## Here we will get a Pie with percentages\n",
        "sns.set_style('whitegrid')\n",
        "sns.countplot(x=\"churn\",data=outcome)"
      ],
      "execution_count": 91,
      "outputs": [
        {
          "output_type": "execute_result",
          "data": {
            "text/plain": [
              "<matplotlib.axes._subplots.AxesSubplot at 0x7f911a106410>"
            ]
          },
          "metadata": {
            "tags": []
          },
          "execution_count": 91
        },
        {
          "output_type": "display_data",
          "data": {
            "image/png": "[encoded data removed]",
            "text/plain": [
              "<Figure size 432x288 with 1 Axes>"
            ]
          },
          "metadata": {
            "tags": []
          }
        }
      ]
    },
    {
      "cell_type": "code",
      "metadata": {
        "colab": {
          "base_uri": "https://localhost:8080/",
          "height": 297
        },
        "id": "NIjhPajOTys1",
        "outputId": "014a4b6f-7578-48eb-81be-941d3b7005f9"
      },
      "source": [
        "\n",
        "# Pie chart\n",
        "labels = ['Didnt churn', 'Churn']\n",
        "sizes = [len(outcome[outcome['churn'] == 0]), len(outcome[outcome['churn'] == 1])]\n",
        "explode = (0, 0.1)  \n",
        "fig1, ax1 = mat.subplots()\n",
        "ax1.pie(sizes, explode=explode, labels=labels, autopct='%1.1f%%',\n",
        "        shadow=True, startangle=90)\n",
        "# Equal aspect ratio ensures that pie is drawn as a circle\n",
        "ax1.axis('equal')  \n",
        "mat.tight_layout()\n",
        "mat.show()"
      ],
      "execution_count": 131,
      "outputs": [
        {
          "output_type": "display_data",
          "data": {
            "image/png": "[encoded data removed]",
            "text/plain": [
              "<Figure size 432x288 with 1 Axes>"
            ]
          },
          "metadata": {
            "tags": []
          }
        }
      ]
    },
    {
      "cell_type": "code",
      "metadata": {
        "colab": {
          "base_uri": "https://localhost:8080/"
        },
        "id": "a6xea3jmpnyo",
        "outputId": "c9e21631-fe41-4e13-fa39-f4ed410b8441"
      },
      "source": [
        "\n",
        "# Check the number of duplicates\n",
        "len(outcome)-len(outcome.drop_duplicates())"
      ],
      "execution_count": 92,
      "outputs": [
        {
          "output_type": "execute_result",
          "data": {
            "text/plain": [
              "0"
            ]
          },
          "metadata": {
            "tags": []
          },
          "execution_count": 92
        }
      ]
    },
    {
      "cell_type": "code",
      "metadata": {
        "colab": {
          "base_uri": "https://localhost:8080/"
        },
        "id": "_aR3cKRgrzOk",
        "outputId": "2df11662-2a77-48c5-a6b7-15c8d92dd877"
      },
      "source": [
        "#Set index\n",
        "outcome.set_index(['id'])\n",
        "outcome.nunique()"
      ],
      "execution_count": 93,
      "outputs": [
        {
          "output_type": "execute_result",
          "data": {
            "text/plain": [
              "id       16096\n",
              "churn        2\n",
              "dtype: int64"
            ]
          },
          "metadata": {
            "tags": []
          },
          "execution_count": 93
        }
      ]
    },
    {
      "cell_type": "markdown",
      "metadata": {
        "id": "qIovhITAsoXo"
      },
      "source": [
        "Summary of the dataset:\n",
        "\n",
        "\n",
        "\n",
        "*   A total of 16096 records, one for each unique customer.\n",
        "*   No duplicates or missing data.\n",
        "*   Only a small amount had churned (x%).\n",
        "\n",
        "\n"
      ]
    },
    {
      "cell_type": "markdown",
      "metadata": {
        "id": "XGj2SwE1WoNQ"
      },
      "source": [
        "# Factors in the Historical pricing data associated with churn phenomenon"
      ]
    },
    {
      "cell_type": "code",
      "metadata": {
        "colab": {
          "base_uri": "https://localhost:8080/",
          "height": 224
        },
        "id": "snd_LmXbW9km",
        "outputId": "0f677db5-5949-4cd4-8a94-55fc59068259"
      },
      "source": [
        "merge1 = pd.merge(left=hist, right=outcome, how='left', on='id')\n",
        "merge1.head()"
      ],
      "execution_count": 202,
      "outputs": [
        {
          "output_type": "execute_result",
          "data": {
            "text/html": [
              "<div>\n",
              "<style scoped>\n",
              "    .dataframe tbody tr th:only-of-type {\n",
              "        vertical-align: middle;\n",
              "    }\n",
              "\n",
              "    .dataframe tbody tr th {\n",
              "        vertical-align: top;\n",
              "    }\n",
              "\n",
              "    .dataframe thead th {\n",
              "        text-align: right;\n",
              "    }\n",
              "</style>\n",
              "<table border=\"1\" class=\"dataframe\">\n",
              "  <thead>\n",
              "    <tr style=\"text-align: right;\">\n",
              "      <th></th>\n",
              "      <th>id</th>\n",
              "      <th>price_date</th>\n",
              "      <th>price_p1_var</th>\n",
              "      <th>price_p2_var</th>\n",
              "      <th>price_p3_var</th>\n",
              "      <th>price_p1_fix</th>\n",
              "      <th>price_p2_fix</th>\n",
              "      <th>price_p3_fix</th>\n",
              "      <th>churn</th>\n",
              "    </tr>\n",
              "  </thead>\n",
              "  <tbody>\n",
              "    <tr>\n",
              "      <th>0</th>\n",
              "      <td>038af19179925da21a25619c5a24b745</td>\n",
              "      <td>2015-01-01</td>\n",
              "      <td>0.151367</td>\n",
              "      <td>0.0</td>\n",
              "      <td>0.0</td>\n",
              "      <td>44.266931</td>\n",
              "      <td>0.0</td>\n",
              "      <td>0.0</td>\n",
              "      <td>0</td>\n",
              "    </tr>\n",
              "    <tr>\n",
              "      <th>1</th>\n",
              "      <td>038af19179925da21a25619c5a24b745</td>\n",
              "      <td>2015-02-01</td>\n",
              "      <td>0.151367</td>\n",
              "      <td>0.0</td>\n",
              "      <td>0.0</td>\n",
              "      <td>44.266931</td>\n",
              "      <td>0.0</td>\n",
              "      <td>0.0</td>\n",
              "      <td>0</td>\n",
              "    </tr>\n",
              "    <tr>\n",
              "      <th>2</th>\n",
              "      <td>038af19179925da21a25619c5a24b745</td>\n",
              "      <td>2015-03-01</td>\n",
              "      <td>0.151367</td>\n",
              "      <td>0.0</td>\n",
              "      <td>0.0</td>\n",
              "      <td>44.266931</td>\n",
              "      <td>0.0</td>\n",
              "      <td>0.0</td>\n",
              "      <td>0</td>\n",
              "    </tr>\n",
              "    <tr>\n",
              "      <th>3</th>\n",
              "      <td>038af19179925da21a25619c5a24b745</td>\n",
              "      <td>2015-04-01</td>\n",
              "      <td>0.149626</td>\n",
              "      <td>0.0</td>\n",
              "      <td>0.0</td>\n",
              "      <td>44.266931</td>\n",
              "      <td>0.0</td>\n",
              "      <td>0.0</td>\n",
              "      <td>0</td>\n",
              "    </tr>\n",
              "    <tr>\n",
              "      <th>4</th>\n",
              "      <td>038af19179925da21a25619c5a24b745</td>\n",
              "      <td>2015-05-01</td>\n",
              "      <td>0.149626</td>\n",
              "      <td>0.0</td>\n",
              "      <td>0.0</td>\n",
              "      <td>44.266931</td>\n",
              "      <td>0.0</td>\n",
              "      <td>0.0</td>\n",
              "      <td>0</td>\n",
              "    </tr>\n",
              "  </tbody>\n",
              "</table>\n",
              "</div>"
            ],
            "text/plain": [
              "                                 id price_date  ...  price_p3_fix  churn\n",
              "0  038af19179925da21a25619c5a24b745 2015-01-01  ...           0.0      0\n",
              "1  038af19179925da21a25619c5a24b745 2015-02-01  ...           0.0      0\n",
              "2  038af19179925da21a25619c5a24b745 2015-03-01  ...           0.0      0\n",
              "3  038af19179925da21a25619c5a24b745 2015-04-01  ...           0.0      0\n",
              "4  038af19179925da21a25619c5a24b745 2015-05-01  ...           0.0      0\n",
              "\n",
              "[5 rows x 9 columns]"
            ]
          },
          "metadata": {
            "tags": []
          },
          "execution_count": 202
        }
      ]
    },
    {
      "cell_type": "code",
      "metadata": {
        "colab": {
          "base_uri": "https://localhost:8080/"
        },
        "id": "n4RXZ-PaZNhc",
        "outputId": "9f524d72-174d-464b-820b-3bbff082f65d"
      },
      "source": [
        "outcome.columns"
      ],
      "execution_count": 203,
      "outputs": [
        {
          "output_type": "execute_result",
          "data": {
            "text/plain": [
              "Index(['id', 'churn'], dtype='object')"
            ]
          },
          "metadata": {
            "tags": []
          },
          "execution_count": 203
        }
      ]
    },
    {
      "cell_type": "markdown",
      "metadata": {
        "id": "lm3r14KiXekO"
      },
      "source": [
        "Temporal distribution of churn"
      ]
    },
    {
      "cell_type": "code",
      "metadata": {
        "id": "1klFRs0BXjPq"
      },
      "source": [
        "\n",
        "#outcome.set_index(['id'])\n",
        "time = merge1[['price_date','churn']]\n",
        "#time['month'] = ([time['price_date'].dt.month])\n",
        "chur = time[time[\"churn\"] == 1]\n",
        "\n",
        "chur = chur.groupby([time['price_date'].dt.month]).count()\n",
        "chur.reset_index(drop=True, inplace=True)\n",
        "chur = chur.rename(columns={'churn': 'Churned'})\n",
        "\n",
        "noChur = time[time[\"churn\"] == 0]\n",
        "\n",
        "noChur = noChur.groupby([time['price_date'].dt.month]).count()\n",
        "\n",
        "noChur.reset_index(drop=True, inplace=True)\n",
        "noChur = noChur.rename(columns={'churn': 'Didnt'})"
      ],
      "execution_count": null,
      "outputs": []
    },
    {
      "cell_type": "code",
      "metadata": {
        "colab": {
          "base_uri": "https://localhost:8080/",
          "height": 421
        },
        "id": "rs0zh15Xd22Z",
        "outputId": "e7e2c71c-cc14-4779-ced5-609590e019d4"
      },
      "source": [
        "\n",
        "data = {'Month':[\"Jan\",\"Feb\",\"Mar\",\"Apr\",\"May\",\"Jun\",\"Jul\",\"Aug\",\"Sep\",\"Oct\",\"Nov\",\"Dec\"],'Didnt': noChur['Didnt'], 'Churned': chur['Churned']}  \n",
        "  \n",
        "# Create DataFrame  \n",
        "df = pd.DataFrame(data) \n",
        "df[\"ChurnPer\"] = (df['Churned'] / (df['Didnt']+df['Churned']) * 100)\n",
        "df[\"DidntPer\"] = (df['Didnt'] / (df['Didnt']+df['Churned']) * 100)\n",
        "\n",
        "df"
      ],
      "execution_count": 221,
      "outputs": [
        {
          "output_type": "execute_result",
          "data": {
            "text/html": [
              "<div>\n",
              "<style scoped>\n",
              "    .dataframe tbody tr th:only-of-type {\n",
              "        vertical-align: middle;\n",
              "    }\n",
              "\n",
              "    .dataframe tbody tr th {\n",
              "        vertical-align: top;\n",
              "    }\n",
              "\n",
              "    .dataframe thead th {\n",
              "        text-align: right;\n",
              "    }\n",
              "</style>\n",
              "<table border=\"1\" class=\"dataframe\">\n",
              "  <thead>\n",
              "    <tr style=\"text-align: right;\">\n",
              "      <th></th>\n",
              "      <th>Month</th>\n",
              "      <th>Didnt</th>\n",
              "      <th>Churned</th>\n",
              "      <th>ChurnPer</th>\n",
              "      <th>DidntPer</th>\n",
              "    </tr>\n",
              "  </thead>\n",
              "  <tbody>\n",
              "    <tr>\n",
              "      <th>0</th>\n",
              "      <td>Jan</td>\n",
              "      <td>14478</td>\n",
              "      <td>1592</td>\n",
              "      <td>9.906658</td>\n",
              "      <td>90.093342</td>\n",
              "    </tr>\n",
              "    <tr>\n",
              "      <th>1</th>\n",
              "      <td>Feb</td>\n",
              "      <td>14489</td>\n",
              "      <td>1593</td>\n",
              "      <td>9.905484</td>\n",
              "      <td>90.094516</td>\n",
              "    </tr>\n",
              "    <tr>\n",
              "      <th>2</th>\n",
              "      <td>Mar</td>\n",
              "      <td>14483</td>\n",
              "      <td>1591</td>\n",
              "      <td>9.897972</td>\n",
              "      <td>90.102028</td>\n",
              "    </tr>\n",
              "    <tr>\n",
              "      <th>3</th>\n",
              "      <td>Apr</td>\n",
              "      <td>14487</td>\n",
              "      <td>1592</td>\n",
              "      <td>9.901113</td>\n",
              "      <td>90.098887</td>\n",
              "    </tr>\n",
              "    <tr>\n",
              "      <th>4</th>\n",
              "      <td>May</td>\n",
              "      <td>14490</td>\n",
              "      <td>1590</td>\n",
              "      <td>9.888060</td>\n",
              "      <td>90.111940</td>\n",
              "    </tr>\n",
              "    <tr>\n",
              "      <th>5</th>\n",
              "      <td>Jun</td>\n",
              "      <td>14493</td>\n",
              "      <td>1592</td>\n",
              "      <td>9.897420</td>\n",
              "      <td>90.102580</td>\n",
              "    </tr>\n",
              "    <tr>\n",
              "      <th>6</th>\n",
              "      <td>Jul</td>\n",
              "      <td>14497</td>\n",
              "      <td>1593</td>\n",
              "      <td>9.900559</td>\n",
              "      <td>90.099441</td>\n",
              "    </tr>\n",
              "    <tr>\n",
              "      <th>7</th>\n",
              "      <td>Aug</td>\n",
              "      <td>14499</td>\n",
              "      <td>1595</td>\n",
              "      <td>9.910526</td>\n",
              "      <td>90.089474</td>\n",
              "    </tr>\n",
              "    <tr>\n",
              "      <th>8</th>\n",
              "      <td>Sep</td>\n",
              "      <td>14492</td>\n",
              "      <td>1590</td>\n",
              "      <td>9.886830</td>\n",
              "      <td>90.113170</td>\n",
              "    </tr>\n",
              "    <tr>\n",
              "      <th>9</th>\n",
              "      <td>Oct</td>\n",
              "      <td>14493</td>\n",
              "      <td>1592</td>\n",
              "      <td>9.897420</td>\n",
              "      <td>90.102580</td>\n",
              "    </tr>\n",
              "    <tr>\n",
              "      <th>10</th>\n",
              "      <td>Nov</td>\n",
              "      <td>14493</td>\n",
              "      <td>1594</td>\n",
              "      <td>9.908622</td>\n",
              "      <td>90.091378</td>\n",
              "    </tr>\n",
              "    <tr>\n",
              "      <th>11</th>\n",
              "      <td>Dec</td>\n",
              "      <td>14499</td>\n",
              "      <td>1595</td>\n",
              "      <td>9.910526</td>\n",
              "      <td>90.089474</td>\n",
              "    </tr>\n",
              "  </tbody>\n",
              "</table>\n",
              "</div>"
            ],
            "text/plain": [
              "   Month  Didnt  Churned  ChurnPer   DidntPer\n",
              "0    Jan  14478     1592  9.906658  90.093342\n",
              "1    Feb  14489     1593  9.905484  90.094516\n",
              "2    Mar  14483     1591  9.897972  90.102028\n",
              "3    Apr  14487     1592  9.901113  90.098887\n",
              "4    May  14490     1590  9.888060  90.111940\n",
              "5    Jun  14493     1592  9.897420  90.102580\n",
              "6    Jul  14497     1593  9.900559  90.099441\n",
              "7    Aug  14499     1595  9.910526  90.089474\n",
              "8    Sep  14492     1590  9.886830  90.113170\n",
              "9    Oct  14493     1592  9.897420  90.102580\n",
              "10   Nov  14493     1594  9.908622  90.091378\n",
              "11   Dec  14499     1595  9.910526  90.089474"
            ]
          },
          "metadata": {
            "tags": []
          },
          "execution_count": 221
        }
      ]
    },
    {
      "cell_type": "markdown",
      "metadata": {
        "id": "YxhRGpmjXdqq"
      },
      "source": [
        "Impression: There was no seasonality in the churn effect"
      ]
    },
    {
      "cell_type": "code",
      "metadata": {
        "colab": {
          "base_uri": "https://localhost:8080/"
        },
        "id": "9d1w_epOl_Qn",
        "outputId": "67447dd2-1136-445d-cb89-29f83c0b62be"
      },
      "source": [
        "merge1.columns"
      ],
      "execution_count": 222,
      "outputs": [
        {
          "output_type": "execute_result",
          "data": {
            "text/plain": [
              "Index(['id', 'price_date', 'price_p1_var', 'price_p2_var', 'price_p3_var',\n",
              "       'price_p1_fix', 'price_p2_fix', 'price_p3_fix', 'churn'],\n",
              "      dtype='object')"
            ]
          },
          "metadata": {
            "tags": []
          },
          "execution_count": 222
        }
      ]
    },
    {
      "cell_type": "code",
      "metadata": {
        "colab": {
          "base_uri": "https://localhost:8080/",
          "height": 296
        },
        "id": "GnrWOZzhXccA",
        "outputId": "69a4f857-cc3b-45b6-9f63-64be8cd8592e"
      },
      "source": [
        "sns.boxplot(x=\"churn\", y=\"price_p1_var\", data=merge1)\n"
      ],
      "execution_count": 242,
      "outputs": [
        {
          "output_type": "execute_result",
          "data": {
            "text/plain": [
              "<matplotlib.axes._subplots.AxesSubplot at 0x7f9115cfcbd0>"
            ]
          },
          "metadata": {
            "tags": []
          },
          "execution_count": 242
        },
        {
          "output_type": "display_data",
          "data": {
            "image/png": "[encoded data removed]",
            "text/plain": [
              "<Figure size 432x288 with 1 Axes>"
            ]
          },
          "metadata": {
            "tags": []
          }
        }
      ]
    },
    {
      "cell_type": "code",
      "metadata": {
        "id": "XzS6A1x9nsqs"
      },
      "source": [
        "f, axs = plt.subplots(1, 2, figsize=(8, 4), gridspec_kw=dict(width_ratios=[4, 3]))\n",
        "sns.boxplot(x=\"churn\", y=\"price_p2_var\", data=merge1, ax=axs[0])\n",
        "sns.boxplot(x=\"churn\", y=\"price_p1_var\", data=merge1, ax=axs[1])\n",
        "f.tight_layout()"
      ],
      "execution_count": null,
      "outputs": []
    },
    {
      "cell_type": "code",
      "metadata": {
        "id": "gakJygA3oB41"
      },
      "source": [
        "ax = sns.boxplot(x=\"churn\", y=\"price_p3_var\", data=merge1)\n"
      ],
      "execution_count": null,
      "outputs": []
    },
    {
      "cell_type": "code",
      "metadata": {
        "id": "7cizhg5XmROW"
      },
      "source": [
        "f, axs = plt.subplots(1, 2, figsize=(8, 4), gridspec_kw=dict(width_ratios=[4, 3]))\n",
        "sns.boxplot(x=\"churn\", y=\"price_p1_fix\", data=merge1, ax=axs[0])\n",
        "sns.boxplot(x=\"churn\", y=\"price_p2_fix\", data=merge1, ax=axs[1])\n",
        "f.tight_layout()"
      ],
      "execution_count": null,
      "outputs": []
    },
    {
      "cell_type": "code",
      "metadata": {
        "id": "pbgKwVd8mcSP"
      },
      "source": [
        "ax = sns.boxplot(x=\"churn\", y=\"price_p3_fix\", data=merge1)\n"
      ],
      "execution_count": null,
      "outputs": []
    },
    {
      "cell_type": "markdown",
      "metadata": {
        "id": "p3LwR7jkmkDR"
      },
      "source": [
        "Impression: Comparing these boxplots, there is no obvious difference in the prices amongst those who churned and those who didnt"
      ]
    },
    {
      "cell_type": "markdown",
      "metadata": {
        "id": "3P-TLg7mtSYp"
      },
      "source": [
        "**The Historical customer data**"
      ]
    },
    {
      "cell_type": "code",
      "metadata": {
        "colab": {
          "base_uri": "https://localhost:8080/"
        },
        "id": "5rSoculkwtwz",
        "outputId": "06120abc-8631-4028-b357-68d0cad46818"
      },
      "source": [
        "clientProfile.shape"
      ],
      "execution_count": 250,
      "outputs": [
        {
          "output_type": "execute_result",
          "data": {
            "text/plain": [
              "(16096, 25)"
            ]
          },
          "metadata": {
            "tags": []
          },
          "execution_count": 250
        }
      ]
    },
    {
      "cell_type": "code",
      "metadata": {
        "id": "ezMH3wVVw5Qq"
      },
      "source": [
        "clientProfile.dtypes"
      ],
      "execution_count": null,
      "outputs": []
    },
    {
      "cell_type": "code",
      "metadata": {
        "id": "oTixttm0wbeM"
      },
      "source": [
        "clientProfile.head()\n",
        "clientProfile.tail()"
      ],
      "execution_count": null,
      "outputs": []
    },
    {
      "cell_type": "code",
      "metadata": {
        "colab": {
          "base_uri": "https://localhost:8080/",
          "height": 317
        },
        "id": "XS3npYkaww5S",
        "outputId": "5b4e2aef-13e6-4d58-a031-14f2cbdcf57d"
      },
      "source": [
        "clientProfile.describe()"
      ],
      "execution_count": 253,
      "outputs": [
        {
          "output_type": "execute_result",
          "data": {
            "text/html": [
              "<div>\n",
              "<style scoped>\n",
              "    .dataframe tbody tr th:only-of-type {\n",
              "        vertical-align: middle;\n",
              "    }\n",
              "\n",
              "    .dataframe tbody tr th {\n",
              "        vertical-align: top;\n",
              "    }\n",
              "\n",
              "    .dataframe thead th {\n",
              "        text-align: right;\n",
              "    }\n",
              "</style>\n",
              "<table border=\"1\" class=\"dataframe\">\n",
              "  <thead>\n",
              "    <tr style=\"text-align: right;\">\n",
              "      <th></th>\n",
              "      <th>cons_12m</th>\n",
              "      <th>cons_gas_12m</th>\n",
              "      <th>cons_last_month</th>\n",
              "      <th>forecast_cons_12m</th>\n",
              "      <th>forecast_cons_year</th>\n",
              "      <th>forecast_discount_energy</th>\n",
              "      <th>forecast_meter_rent_12m</th>\n",
              "      <th>forecast_price_energy_p1</th>\n",
              "      <th>forecast_price_energy_p2</th>\n",
              "      <th>forecast_price_pow_p1</th>\n",
              "      <th>imp_cons</th>\n",
              "      <th>margin_gross_pow_ele</th>\n",
              "      <th>margin_net_pow_ele</th>\n",
              "      <th>nb_prod_act</th>\n",
              "      <th>net_margin</th>\n",
              "      <th>num_years_antig</th>\n",
              "      <th>pow_max</th>\n",
              "    </tr>\n",
              "  </thead>\n",
              "  <tbody>\n",
              "    <tr>\n",
              "      <th>count</th>\n",
              "      <td>1.609600e+04</td>\n",
              "      <td>1.609600e+04</td>\n",
              "      <td>1.609600e+04</td>\n",
              "      <td>16096.000000</td>\n",
              "      <td>16096.000000</td>\n",
              "      <td>15970.000000</td>\n",
              "      <td>16096.000000</td>\n",
              "      <td>15970.000000</td>\n",
              "      <td>15970.000000</td>\n",
              "      <td>15970.000000</td>\n",
              "      <td>16096.000000</td>\n",
              "      <td>16083.000000</td>\n",
              "      <td>16083.000000</td>\n",
              "      <td>16096.000000</td>\n",
              "      <td>16081.000000</td>\n",
              "      <td>16096.000000</td>\n",
              "      <td>16093.000000</td>\n",
              "    </tr>\n",
              "    <tr>\n",
              "      <th>mean</th>\n",
              "      <td>1.948044e+05</td>\n",
              "      <td>3.191164e+04</td>\n",
              "      <td>1.946154e+04</td>\n",
              "      <td>2370.555949</td>\n",
              "      <td>1907.347229</td>\n",
              "      <td>0.991547</td>\n",
              "      <td>70.309945</td>\n",
              "      <td>0.135901</td>\n",
              "      <td>0.052951</td>\n",
              "      <td>43.533496</td>\n",
              "      <td>196.123447</td>\n",
              "      <td>22.462276</td>\n",
              "      <td>21.460318</td>\n",
              "      <td>1.347788</td>\n",
              "      <td>217.987028</td>\n",
              "      <td>5.030629</td>\n",
              "      <td>20.604131</td>\n",
              "    </tr>\n",
              "    <tr>\n",
              "      <th>std</th>\n",
              "      <td>6.795151e+05</td>\n",
              "      <td>1.775885e+05</td>\n",
              "      <td>8.235676e+04</td>\n",
              "      <td>4035.085664</td>\n",
              "      <td>5257.364759</td>\n",
              "      <td>5.160969</td>\n",
              "      <td>79.023251</td>\n",
              "      <td>0.026252</td>\n",
              "      <td>0.048617</td>\n",
              "      <td>5.212252</td>\n",
              "      <td>494.366979</td>\n",
              "      <td>23.700883</td>\n",
              "      <td>27.917349</td>\n",
              "      <td>1.459808</td>\n",
              "      <td>366.742030</td>\n",
              "      <td>1.676101</td>\n",
              "      <td>21.772421</td>\n",
              "    </tr>\n",
              "    <tr>\n",
              "      <th>min</th>\n",
              "      <td>-1.252760e+05</td>\n",
              "      <td>-3.037000e+03</td>\n",
              "      <td>-9.138600e+04</td>\n",
              "      <td>-16689.260000</td>\n",
              "      <td>-85627.000000</td>\n",
              "      <td>0.000000</td>\n",
              "      <td>-242.960000</td>\n",
              "      <td>0.000000</td>\n",
              "      <td>0.000000</td>\n",
              "      <td>-0.122184</td>\n",
              "      <td>-9038.210000</td>\n",
              "      <td>-525.540000</td>\n",
              "      <td>-615.660000</td>\n",
              "      <td>1.000000</td>\n",
              "      <td>-4148.990000</td>\n",
              "      <td>1.000000</td>\n",
              "      <td>1.000000</td>\n",
              "    </tr>\n",
              "    <tr>\n",
              "      <th>25%</th>\n",
              "      <td>5.906250e+03</td>\n",
              "      <td>0.000000e+00</td>\n",
              "      <td>0.000000e+00</td>\n",
              "      <td>513.230000</td>\n",
              "      <td>0.000000</td>\n",
              "      <td>0.000000</td>\n",
              "      <td>16.230000</td>\n",
              "      <td>0.115237</td>\n",
              "      <td>0.000000</td>\n",
              "      <td>40.606701</td>\n",
              "      <td>0.000000</td>\n",
              "      <td>11.960000</td>\n",
              "      <td>11.950000</td>\n",
              "      <td>1.000000</td>\n",
              "      <td>51.970000</td>\n",
              "      <td>4.000000</td>\n",
              "      <td>12.500000</td>\n",
              "    </tr>\n",
              "    <tr>\n",
              "      <th>50%</th>\n",
              "      <td>1.533250e+04</td>\n",
              "      <td>0.000000e+00</td>\n",
              "      <td>9.010000e+02</td>\n",
              "      <td>1179.160000</td>\n",
              "      <td>378.000000</td>\n",
              "      <td>0.000000</td>\n",
              "      <td>19.440000</td>\n",
              "      <td>0.142881</td>\n",
              "      <td>0.086163</td>\n",
              "      <td>44.311378</td>\n",
              "      <td>44.465000</td>\n",
              "      <td>21.090000</td>\n",
              "      <td>20.970000</td>\n",
              "      <td>1.000000</td>\n",
              "      <td>119.680000</td>\n",
              "      <td>5.000000</td>\n",
              "      <td>13.856000</td>\n",
              "    </tr>\n",
              "    <tr>\n",
              "      <th>75%</th>\n",
              "      <td>5.022150e+04</td>\n",
              "      <td>0.000000e+00</td>\n",
              "      <td>4.127000e+03</td>\n",
              "      <td>2692.077500</td>\n",
              "      <td>1994.250000</td>\n",
              "      <td>0.000000</td>\n",
              "      <td>131.470000</td>\n",
              "      <td>0.146348</td>\n",
              "      <td>0.098837</td>\n",
              "      <td>44.311378</td>\n",
              "      <td>218.090000</td>\n",
              "      <td>29.640000</td>\n",
              "      <td>29.640000</td>\n",
              "      <td>1.000000</td>\n",
              "      <td>275.810000</td>\n",
              "      <td>6.000000</td>\n",
              "      <td>19.800000</td>\n",
              "    </tr>\n",
              "    <tr>\n",
              "      <th>max</th>\n",
              "      <td>1.609711e+07</td>\n",
              "      <td>4.188440e+06</td>\n",
              "      <td>4.538720e+06</td>\n",
              "      <td>103801.930000</td>\n",
              "      <td>175375.000000</td>\n",
              "      <td>50.000000</td>\n",
              "      <td>2411.690000</td>\n",
              "      <td>0.273963</td>\n",
              "      <td>0.195975</td>\n",
              "      <td>59.444710</td>\n",
              "      <td>15042.790000</td>\n",
              "      <td>374.640000</td>\n",
              "      <td>374.640000</td>\n",
              "      <td>32.000000</td>\n",
              "      <td>24570.650000</td>\n",
              "      <td>16.000000</td>\n",
              "      <td>500.000000</td>\n",
              "    </tr>\n",
              "  </tbody>\n",
              "</table>\n",
              "</div>"
            ],
            "text/plain": [
              "           cons_12m  cons_gas_12m  ...  num_years_antig       pow_max\n",
              "count  1.609600e+04  1.609600e+04  ...     16096.000000  16093.000000\n",
              "mean   1.948044e+05  3.191164e+04  ...         5.030629     20.604131\n",
              "std    6.795151e+05  1.775885e+05  ...         1.676101     21.772421\n",
              "min   -1.252760e+05 -3.037000e+03  ...         1.000000      1.000000\n",
              "25%    5.906250e+03  0.000000e+00  ...         4.000000     12.500000\n",
              "50%    1.533250e+04  0.000000e+00  ...         5.000000     13.856000\n",
              "75%    5.022150e+04  0.000000e+00  ...         6.000000     19.800000\n",
              "max    1.609711e+07  4.188440e+06  ...        16.000000    500.000000\n",
              "\n",
              "[8 rows x 17 columns]"
            ]
          },
          "metadata": {
            "tags": []
          },
          "execution_count": 253
        }
      ]
    },
    {
      "cell_type": "markdown",
      "metadata": {
        "id": "fj2KXWSrPr1_"
      },
      "source": [
        "**Missing data**"
      ]
    },
    {
      "cell_type": "code",
      "metadata": {
        "colab": {
          "base_uri": "https://localhost:8080/"
        },
        "id": "kudhGPWkvt12",
        "outputId": "4798aa24-6ad5-4b3b-b203-d41334504fbc"
      },
      "source": [
        "## Check and deal with missing!\n",
        "## Eyes on the important data points\n",
        "clientProfile.isnull().sum()"
      ],
      "execution_count": 254,
      "outputs": [
        {
          "output_type": "execute_result",
          "data": {
            "text/plain": [
              "id                             0\n",
              "channel_sales               4218\n",
              "cons_12m                       0\n",
              "cons_gas_12m                   0\n",
              "cons_last_month                0\n",
              "date_activ                     0\n",
              "date_end                       2\n",
              "date_modif_prod              157\n",
              "date_renewal                  40\n",
              "forecast_cons_12m              0\n",
              "forecast_cons_year             0\n",
              "forecast_discount_energy     126\n",
              "forecast_meter_rent_12m        0\n",
              "forecast_price_energy_p1     126\n",
              "forecast_price_energy_p2     126\n",
              "forecast_price_pow_p1        126\n",
              "has_gas                        0\n",
              "imp_cons                       0\n",
              "margin_gross_pow_ele          13\n",
              "margin_net_pow_ele            13\n",
              "nb_prod_act                    0\n",
              "net_margin                    15\n",
              "num_years_antig                0\n",
              "origin_up                     87\n",
              "pow_max                        3\n",
              "dtype: int64"
            ]
          },
          "metadata": {
            "tags": []
          },
          "execution_count": 254
        }
      ]
    },
    {
      "cell_type": "code",
      "metadata": {
        "colab": {
          "base_uri": "https://localhost:8080/",
          "height": 400
        },
        "id": "xXR_UVVRwZOM",
        "outputId": "eedf0232-fd4a-4d0d-e03e-6ddf919f938f"
      },
      "source": [
        "sns.heatmap(clientProfile.isnull(),yticklabels=False,cbar=False,cmap='viridis')"
      ],
      "execution_count": 255,
      "outputs": [
        {
          "output_type": "execute_result",
          "data": {
            "text/plain": [
              "<matplotlib.axes._subplots.AxesSubplot at 0x7f9116503850>"
            ]
          },
          "metadata": {
            "tags": []
          },
          "execution_count": 255
        },
        {
          "output_type": "display_data",
          "data": {
            "image/png": "[encoded data removed]",
            "text/plain": [
              "<Figure size 432x288 with 1 Axes>"
            ]
          },
          "metadata": {
            "tags": []
          }
        }
      ]
    },
    {
      "cell_type": "code",
      "metadata": {
        "id": "JEz5WUY0Mv5z"
      },
      "source": [
        "pd.DataFrame({\"Missing values (%)\": clientProfile.isnull().sum()/len(clientProfile.index)*100})"
      ],
      "execution_count": null,
      "outputs": []
    },
    {
      "cell_type": "markdown",
      "metadata": {
        "id": "OyPA4iykJOIy"
      },
      "source": [
        "\n",
        "Variable  with 50% or more of missing values to be exluded from further analysis.\n",
        "\n",
        "*   forecast_base_bill_ele\n",
        "*   forecast_base_bill_year\n",
        "*   forecast_bill_12m\n",
        "*   forecast_cons\n",
        "*   date_first_activ\n",
        "*   campaign_disc_ele\n",
        "*   activity_new           \n",
        "\n",
        "\n",
        "The rest of the missing data will be taken care of during the preprocessing.\n",
        "\n",
        "**NB** This is because no logic for interpolation of the data can be made out at this point!\n",
        "\n"
      ]
    },
    {
      "cell_type": "code",
      "metadata": {
        "id": "sYTJ1c6JOe1A"
      },
      "source": [
        "\n",
        "\n",
        "clientProfile = clientProfile.drop(columns=[\"forecast_base_bill_ele\",\"forecast_base_bill_year\",\"forecast_bill_12m\",\"forecast_cons\",\"date_first_activ\",\"campaign_disc_ele\",\"activity_new\"])\n",
        "\n"
      ],
      "execution_count": 276,
      "outputs": []
    },
    {
      "cell_type": "markdown",
      "metadata": {
        "id": "vzxTkue1PlWv"
      },
      "source": [
        "Duplicates"
      ]
    },
    {
      "cell_type": "code",
      "metadata": {
        "colab": {
          "base_uri": "https://localhost:8080/"
        },
        "id": "wMDQej5wPk0l",
        "outputId": "0e788734-ddd0-480c-c254-a53d72e96139"
      },
      "source": [
        "# Set index\n",
        "# Check the number of duplicates\n",
        "clientProfile.set_index(['id'])\n",
        "len(clientProfile)-len(clientProfile.drop_duplicates())"
      ],
      "execution_count": 257,
      "outputs": [
        {
          "output_type": "execute_result",
          "data": {
            "text/plain": [
              "0"
            ]
          },
          "metadata": {
            "tags": []
          },
          "execution_count": 257
        }
      ]
    },
    {
      "cell_type": "markdown",
      "metadata": {
        "id": "dp4_1N0oQrJP"
      },
      "source": [
        "Currency of the data: Check the date values"
      ]
    },
    {
      "cell_type": "code",
      "metadata": {
        "id": "HvrzmHgfQvDX"
      },
      "source": [
        "format = '%Y-%m-%d'\n",
        "clientProfile['date_activ'] = pd.to_datetime(clientProfile['date_activ'] , format=format)\n",
        "clientProfile = clientProfile.set_index(pd.DatetimeIndex(clientProfile['date_activ']))"
      ],
      "execution_count": 259,
      "outputs": []
    },
    {
      "cell_type": "code",
      "metadata": {
        "colab": {
          "base_uri": "https://localhost:8080/"
        },
        "id": "H8CVNCdYR7h_",
        "outputId": "68886134-7324-4e32-bee8-e4aa8ea10984"
      },
      "source": [
        "clientProfile.date_activ.max()"
      ],
      "execution_count": 260,
      "outputs": [
        {
          "output_type": "execute_result",
          "data": {
            "text/plain": [
              "Timestamp('2014-09-01 00:00:00')"
            ]
          },
          "metadata": {
            "tags": []
          },
          "execution_count": 260
        }
      ]
    },
    {
      "cell_type": "code",
      "metadata": {
        "colab": {
          "base_uri": "https://localhost:8080/"
        },
        "id": "r0XJFJiaR9CX",
        "outputId": "0399c7b3-9b9b-4e0e-d4a6-60db30619973"
      },
      "source": [
        "clientProfile.date_activ.min()"
      ],
      "execution_count": 261,
      "outputs": [
        {
          "output_type": "execute_result",
          "data": {
            "text/plain": [
              "Timestamp('2000-07-25 00:00:00')"
            ]
          },
          "metadata": {
            "tags": []
          },
          "execution_count": 261
        }
      ]
    },
    {
      "cell_type": "code",
      "metadata": {
        "id": "VnVWqzaGRjdM"
      },
      "source": [
        "format = '%Y-%m-%d'\n",
        "clientProfile['date_end'] = pd.to_datetime(clientProfile['date_end'] , format=format)\n",
        "clientProfile = clientProfile.set_index(pd.DatetimeIndex(clientProfile['date_end']))"
      ],
      "execution_count": 262,
      "outputs": []
    },
    {
      "cell_type": "code",
      "metadata": {
        "colab": {
          "base_uri": "https://localhost:8080/"
        },
        "id": "rJvcx4XvSGTx",
        "outputId": "f54d4e3f-e7bf-4f8c-b036-24fa796a8ae8"
      },
      "source": [
        "clientProfile.date_end.min()"
      ],
      "execution_count": 264,
      "outputs": [
        {
          "output_type": "execute_result",
          "data": {
            "text/plain": [
              "Timestamp('2006-08-26 00:00:00')"
            ]
          },
          "metadata": {
            "tags": []
          },
          "execution_count": 264
        }
      ]
    },
    {
      "cell_type": "code",
      "metadata": {
        "colab": {
          "base_uri": "https://localhost:8080/"
        },
        "id": "-fwP5EHvSGD4",
        "outputId": "d83e4303-f087-42b7-ef96-d8739036c0b3"
      },
      "source": [
        "clientProfile.date_end.max()"
      ],
      "execution_count": 263,
      "outputs": [
        {
          "output_type": "execute_result",
          "data": {
            "text/plain": [
              "Timestamp('2017-06-13 00:00:00')"
            ]
          },
          "metadata": {
            "tags": []
          },
          "execution_count": 263
        }
      ]
    },
    {
      "cell_type": "code",
      "metadata": {
        "id": "JFI5mM8ZRjEX"
      },
      "source": [
        "format = '%Y-%m-%d'\n",
        "clientProfile['date_renewal'] = pd.to_datetime(clientProfile['date_renewal'] , format=format)\n",
        "clientProfile = clientProfile.set_index(pd.DatetimeIndex(clientProfile['date_renewal']))"
      ],
      "execution_count": 265,
      "outputs": []
    },
    {
      "cell_type": "code",
      "metadata": {
        "colab": {
          "base_uri": "https://localhost:8080/"
        },
        "id": "X9Gm-PCySRqI",
        "outputId": "6b31610e-757e-4e50-ceaa-1b2e4a13ce86"
      },
      "source": [
        "clientProfile.date_renewal.min()"
      ],
      "execution_count": 266,
      "outputs": [
        {
          "output_type": "execute_result",
          "data": {
            "text/plain": [
              "Timestamp('2013-06-26 00:00:00')"
            ]
          },
          "metadata": {
            "tags": []
          },
          "execution_count": 266
        }
      ]
    },
    {
      "cell_type": "code",
      "metadata": {
        "colab": {
          "base_uri": "https://localhost:8080/"
        },
        "id": "OeVDE-CqRwCz",
        "outputId": "193ca6bb-9648-45a3-c977-90431ee1f492"
      },
      "source": [
        "clientProfile.date_renewal.max()"
      ],
      "execution_count": 267,
      "outputs": [
        {
          "output_type": "execute_result",
          "data": {
            "text/plain": [
              "Timestamp('2016-01-28 00:00:00')"
            ]
          },
          "metadata": {
            "tags": []
          },
          "execution_count": 267
        }
      ]
    },
    {
      "cell_type": "code",
      "metadata": {
        "id": "n3YJzeZ7rqXy"
      },
      "source": [
        ""
      ],
      "execution_count": null,
      "outputs": []
    },
    {
      "cell_type": "code",
      "metadata": {
        "colab": {
          "base_uri": "https://localhost:8080/"
        },
        "id": "GtAsQyBLqAUz",
        "outputId": "1311389f-f7bc-4804-dd8f-8f3c037ce4f1"
      },
      "source": [
        "clientProfile.dtypes"
      ],
      "execution_count": 286,
      "outputs": [
        {
          "output_type": "execute_result",
          "data": {
            "text/plain": [
              "id                           object\n",
              "channel_sales                object\n",
              "cons_12m                      int64\n",
              "cons_gas_12m                  int64\n",
              "cons_last_month               int64\n",
              "date_activ                   object\n",
              "date_end                     object\n",
              "date_modif_prod              object\n",
              "date_renewal                 object\n",
              "forecast_cons_12m           float64\n",
              "forecast_cons_year            int64\n",
              "forecast_discount_energy    float64\n",
              "forecast_meter_rent_12m     float64\n",
              "forecast_price_energy_p1    float64\n",
              "forecast_price_energy_p2    float64\n",
              "forecast_price_pow_p1       float64\n",
              "has_gas                      object\n",
              "imp_cons                    float64\n",
              "margin_gross_pow_ele        float64\n",
              "margin_net_pow_ele          float64\n",
              "nb_prod_act                   int64\n",
              "net_margin                  float64\n",
              "num_years_antig               int64\n",
              "origin_up                    object\n",
              "pow_max                     float64\n",
              "dtype: object"
            ]
          },
          "metadata": {
            "tags": []
          },
          "execution_count": 286
        }
      ]
    },
    {
      "cell_type": "code",
      "metadata": {
        "colab": {
          "base_uri": "https://localhost:8080/",
          "height": 317
        },
        "id": "Nb7_allCuStA",
        "outputId": "0e6a9e93-4d06-4f70-a4f0-38bbae607ad2"
      },
      "source": [
        "clientProfile.describe()"
      ],
      "execution_count": 284,
      "outputs": [
        {
          "output_type": "execute_result",
          "data": {
            "text/html": [
              "<div>\n",
              "<style scoped>\n",
              "    .dataframe tbody tr th:only-of-type {\n",
              "        vertical-align: middle;\n",
              "    }\n",
              "\n",
              "    .dataframe tbody tr th {\n",
              "        vertical-align: top;\n",
              "    }\n",
              "\n",
              "    .dataframe thead th {\n",
              "        text-align: right;\n",
              "    }\n",
              "</style>\n",
              "<table border=\"1\" class=\"dataframe\">\n",
              "  <thead>\n",
              "    <tr style=\"text-align: right;\">\n",
              "      <th></th>\n",
              "      <th>cons_12m</th>\n",
              "      <th>cons_gas_12m</th>\n",
              "      <th>cons_last_month</th>\n",
              "      <th>forecast_cons_12m</th>\n",
              "      <th>forecast_cons_year</th>\n",
              "      <th>forecast_discount_energy</th>\n",
              "      <th>forecast_meter_rent_12m</th>\n",
              "      <th>forecast_price_energy_p1</th>\n",
              "      <th>forecast_price_energy_p2</th>\n",
              "      <th>forecast_price_pow_p1</th>\n",
              "      <th>imp_cons</th>\n",
              "      <th>margin_gross_pow_ele</th>\n",
              "      <th>margin_net_pow_ele</th>\n",
              "      <th>nb_prod_act</th>\n",
              "      <th>net_margin</th>\n",
              "      <th>num_years_antig</th>\n",
              "      <th>pow_max</th>\n",
              "    </tr>\n",
              "  </thead>\n",
              "  <tbody>\n",
              "    <tr>\n",
              "      <th>count</th>\n",
              "      <td>1.609600e+04</td>\n",
              "      <td>1.609600e+04</td>\n",
              "      <td>1.609600e+04</td>\n",
              "      <td>16096.000000</td>\n",
              "      <td>16096.000000</td>\n",
              "      <td>15970.000000</td>\n",
              "      <td>16096.000000</td>\n",
              "      <td>15970.000000</td>\n",
              "      <td>15970.000000</td>\n",
              "      <td>15970.000000</td>\n",
              "      <td>16096.000000</td>\n",
              "      <td>16083.000000</td>\n",
              "      <td>16083.000000</td>\n",
              "      <td>16096.000000</td>\n",
              "      <td>16081.000000</td>\n",
              "      <td>16096.000000</td>\n",
              "      <td>16093.000000</td>\n",
              "    </tr>\n",
              "    <tr>\n",
              "      <th>mean</th>\n",
              "      <td>1.948044e+05</td>\n",
              "      <td>3.191164e+04</td>\n",
              "      <td>1.946154e+04</td>\n",
              "      <td>2370.555949</td>\n",
              "      <td>1907.347229</td>\n",
              "      <td>0.991547</td>\n",
              "      <td>70.309945</td>\n",
              "      <td>0.135901</td>\n",
              "      <td>0.052951</td>\n",
              "      <td>43.533496</td>\n",
              "      <td>196.123447</td>\n",
              "      <td>22.462276</td>\n",
              "      <td>21.460318</td>\n",
              "      <td>1.347788</td>\n",
              "      <td>217.987028</td>\n",
              "      <td>5.030629</td>\n",
              "      <td>20.604131</td>\n",
              "    </tr>\n",
              "    <tr>\n",
              "      <th>std</th>\n",
              "      <td>6.795151e+05</td>\n",
              "      <td>1.775885e+05</td>\n",
              "      <td>8.235676e+04</td>\n",
              "      <td>4035.085664</td>\n",
              "      <td>5257.364759</td>\n",
              "      <td>5.160969</td>\n",
              "      <td>79.023251</td>\n",
              "      <td>0.026252</td>\n",
              "      <td>0.048617</td>\n",
              "      <td>5.212252</td>\n",
              "      <td>494.366979</td>\n",
              "      <td>23.700883</td>\n",
              "      <td>27.917349</td>\n",
              "      <td>1.459808</td>\n",
              "      <td>366.742030</td>\n",
              "      <td>1.676101</td>\n",
              "      <td>21.772421</td>\n",
              "    </tr>\n",
              "    <tr>\n",
              "      <th>min</th>\n",
              "      <td>-1.252760e+05</td>\n",
              "      <td>-3.037000e+03</td>\n",
              "      <td>-9.138600e+04</td>\n",
              "      <td>-16689.260000</td>\n",
              "      <td>-85627.000000</td>\n",
              "      <td>0.000000</td>\n",
              "      <td>-242.960000</td>\n",
              "      <td>0.000000</td>\n",
              "      <td>0.000000</td>\n",
              "      <td>-0.122184</td>\n",
              "      <td>-9038.210000</td>\n",
              "      <td>-525.540000</td>\n",
              "      <td>-615.660000</td>\n",
              "      <td>1.000000</td>\n",
              "      <td>-4148.990000</td>\n",
              "      <td>1.000000</td>\n",
              "      <td>1.000000</td>\n",
              "    </tr>\n",
              "    <tr>\n",
              "      <th>25%</th>\n",
              "      <td>5.906250e+03</td>\n",
              "      <td>0.000000e+00</td>\n",
              "      <td>0.000000e+00</td>\n",
              "      <td>513.230000</td>\n",
              "      <td>0.000000</td>\n",
              "      <td>0.000000</td>\n",
              "      <td>16.230000</td>\n",
              "      <td>0.115237</td>\n",
              "      <td>0.000000</td>\n",
              "      <td>40.606701</td>\n",
              "      <td>0.000000</td>\n",
              "      <td>11.960000</td>\n",
              "      <td>11.950000</td>\n",
              "      <td>1.000000</td>\n",
              "      <td>51.970000</td>\n",
              "      <td>4.000000</td>\n",
              "      <td>12.500000</td>\n",
              "    </tr>\n",
              "    <tr>\n",
              "      <th>50%</th>\n",
              "      <td>1.533250e+04</td>\n",
              "      <td>0.000000e+00</td>\n",
              "      <td>9.010000e+02</td>\n",
              "      <td>1179.160000</td>\n",
              "      <td>378.000000</td>\n",
              "      <td>0.000000</td>\n",
              "      <td>19.440000</td>\n",
              "      <td>0.142881</td>\n",
              "      <td>0.086163</td>\n",
              "      <td>44.311378</td>\n",
              "      <td>44.465000</td>\n",
              "      <td>21.090000</td>\n",
              "      <td>20.970000</td>\n",
              "      <td>1.000000</td>\n",
              "      <td>119.680000</td>\n",
              "      <td>5.000000</td>\n",
              "      <td>13.856000</td>\n",
              "    </tr>\n",
              "    <tr>\n",
              "      <th>75%</th>\n",
              "      <td>5.022150e+04</td>\n",
              "      <td>0.000000e+00</td>\n",
              "      <td>4.127000e+03</td>\n",
              "      <td>2692.077500</td>\n",
              "      <td>1994.250000</td>\n",
              "      <td>0.000000</td>\n",
              "      <td>131.470000</td>\n",
              "      <td>0.146348</td>\n",
              "      <td>0.098837</td>\n",
              "      <td>44.311378</td>\n",
              "      <td>218.090000</td>\n",
              "      <td>29.640000</td>\n",
              "      <td>29.640000</td>\n",
              "      <td>1.000000</td>\n",
              "      <td>275.810000</td>\n",
              "      <td>6.000000</td>\n",
              "      <td>19.800000</td>\n",
              "    </tr>\n",
              "    <tr>\n",
              "      <th>max</th>\n",
              "      <td>1.609711e+07</td>\n",
              "      <td>4.188440e+06</td>\n",
              "      <td>4.538720e+06</td>\n",
              "      <td>103801.930000</td>\n",
              "      <td>175375.000000</td>\n",
              "      <td>50.000000</td>\n",
              "      <td>2411.690000</td>\n",
              "      <td>0.273963</td>\n",
              "      <td>0.195975</td>\n",
              "      <td>59.444710</td>\n",
              "      <td>15042.790000</td>\n",
              "      <td>374.640000</td>\n",
              "      <td>374.640000</td>\n",
              "      <td>32.000000</td>\n",
              "      <td>24570.650000</td>\n",
              "      <td>16.000000</td>\n",
              "      <td>500.000000</td>\n",
              "    </tr>\n",
              "  </tbody>\n",
              "</table>\n",
              "</div>"
            ],
            "text/plain": [
              "           cons_12m  cons_gas_12m  ...  num_years_antig       pow_max\n",
              "count  1.609600e+04  1.609600e+04  ...     16096.000000  16093.000000\n",
              "mean   1.948044e+05  3.191164e+04  ...         5.030629     20.604131\n",
              "std    6.795151e+05  1.775885e+05  ...         1.676101     21.772421\n",
              "min   -1.252760e+05 -3.037000e+03  ...         1.000000      1.000000\n",
              "25%    5.906250e+03  0.000000e+00  ...         4.000000     12.500000\n",
              "50%    1.533250e+04  0.000000e+00  ...         5.000000     13.856000\n",
              "75%    5.022150e+04  0.000000e+00  ...         6.000000     19.800000\n",
              "max    1.609711e+07  4.188440e+06  ...        16.000000    500.000000\n",
              "\n",
              "[8 rows x 17 columns]"
            ]
          },
          "metadata": {
            "tags": []
          },
          "execution_count": 284
        }
      ]
    },
    {
      "cell_type": "markdown",
      "metadata": {
        "id": "OCCrQW61SvlC"
      },
      "source": [
        "# Then we check associations in the Historical customer data "
      ]
    },
    {
      "cell_type": "code",
      "metadata": {
        "colab": {
          "base_uri": "https://localhost:8080/",
          "height": 309
        },
        "id": "FqMh5RifqnhH",
        "outputId": "57cde8d7-d29d-4ae5-a818-330ad86765dd"
      },
      "source": [
        "merge2 = pd.merge(left=clientProfile, right=outcome, how='left', on='id')\n",
        "merge2.head()"
      ],
      "execution_count": 277,
      "outputs": [
        {
          "output_type": "execute_result",
          "data": {
            "text/html": [
              "<div>\n",
              "<style scoped>\n",
              "    .dataframe tbody tr th:only-of-type {\n",
              "        vertical-align: middle;\n",
              "    }\n",
              "\n",
              "    .dataframe tbody tr th {\n",
              "        vertical-align: top;\n",
              "    }\n",
              "\n",
              "    .dataframe thead th {\n",
              "        text-align: right;\n",
              "    }\n",
              "</style>\n",
              "<table border=\"1\" class=\"dataframe\">\n",
              "  <thead>\n",
              "    <tr style=\"text-align: right;\">\n",
              "      <th></th>\n",
              "      <th>id</th>\n",
              "      <th>channel_sales</th>\n",
              "      <th>cons_12m</th>\n",
              "      <th>cons_gas_12m</th>\n",
              "      <th>cons_last_month</th>\n",
              "      <th>date_activ</th>\n",
              "      <th>date_end</th>\n",
              "      <th>date_modif_prod</th>\n",
              "      <th>date_renewal</th>\n",
              "      <th>forecast_cons_12m</th>\n",
              "      <th>forecast_cons_year</th>\n",
              "      <th>forecast_discount_energy</th>\n",
              "      <th>forecast_meter_rent_12m</th>\n",
              "      <th>forecast_price_energy_p1</th>\n",
              "      <th>forecast_price_energy_p2</th>\n",
              "      <th>forecast_price_pow_p1</th>\n",
              "      <th>has_gas</th>\n",
              "      <th>imp_cons</th>\n",
              "      <th>margin_gross_pow_ele</th>\n",
              "      <th>margin_net_pow_ele</th>\n",
              "      <th>nb_prod_act</th>\n",
              "      <th>net_margin</th>\n",
              "      <th>num_years_antig</th>\n",
              "      <th>origin_up</th>\n",
              "      <th>pow_max</th>\n",
              "      <th>churn</th>\n",
              "    </tr>\n",
              "  </thead>\n",
              "  <tbody>\n",
              "    <tr>\n",
              "      <th>0</th>\n",
              "      <td>48ada52261e7cf58715202705a0451c9</td>\n",
              "      <td>lmkebamcaaclubfxadlmueccxoimlema</td>\n",
              "      <td>309275</td>\n",
              "      <td>0</td>\n",
              "      <td>10025</td>\n",
              "      <td>2012-11-07</td>\n",
              "      <td>2016-11-06</td>\n",
              "      <td>2012-11-07</td>\n",
              "      <td>2015-11-09</td>\n",
              "      <td>26520.30</td>\n",
              "      <td>10025</td>\n",
              "      <td>0.0</td>\n",
              "      <td>359.29</td>\n",
              "      <td>0.095919</td>\n",
              "      <td>0.088347</td>\n",
              "      <td>58.995952</td>\n",
              "      <td>f</td>\n",
              "      <td>831.8</td>\n",
              "      <td>-41.76</td>\n",
              "      <td>-41.76</td>\n",
              "      <td>1</td>\n",
              "      <td>1732.36</td>\n",
              "      <td>3</td>\n",
              "      <td>ldkssxwpmemidmecebumciepifcamkci</td>\n",
              "      <td>180.000</td>\n",
              "      <td>0</td>\n",
              "    </tr>\n",
              "    <tr>\n",
              "      <th>1</th>\n",
              "      <td>24011ae4ebbe3035111d65fa7c15bc57</td>\n",
              "      <td>foosdfpfkusacimwkcsosbicdxkicaua</td>\n",
              "      <td>0</td>\n",
              "      <td>54946</td>\n",
              "      <td>0</td>\n",
              "      <td>2013-06-15</td>\n",
              "      <td>2016-06-15</td>\n",
              "      <td>NaN</td>\n",
              "      <td>2015-06-23</td>\n",
              "      <td>0.00</td>\n",
              "      <td>0</td>\n",
              "      <td>0.0</td>\n",
              "      <td>1.78</td>\n",
              "      <td>0.114481</td>\n",
              "      <td>0.098142</td>\n",
              "      <td>40.606701</td>\n",
              "      <td>t</td>\n",
              "      <td>0.0</td>\n",
              "      <td>25.44</td>\n",
              "      <td>25.44</td>\n",
              "      <td>2</td>\n",
              "      <td>678.99</td>\n",
              "      <td>3</td>\n",
              "      <td>lxidpiddsbxsbosboudacockeimpuepw</td>\n",
              "      <td>43.648</td>\n",
              "      <td>1</td>\n",
              "    </tr>\n",
              "    <tr>\n",
              "      <th>2</th>\n",
              "      <td>d29c2c54acc38ff3c0614d0a653813dd</td>\n",
              "      <td>NaN</td>\n",
              "      <td>4660</td>\n",
              "      <td>0</td>\n",
              "      <td>0</td>\n",
              "      <td>2009-08-21</td>\n",
              "      <td>2016-08-30</td>\n",
              "      <td>2009-08-21</td>\n",
              "      <td>2015-08-31</td>\n",
              "      <td>189.95</td>\n",
              "      <td>0</td>\n",
              "      <td>0.0</td>\n",
              "      <td>16.27</td>\n",
              "      <td>0.145711</td>\n",
              "      <td>0.000000</td>\n",
              "      <td>44.311378</td>\n",
              "      <td>f</td>\n",
              "      <td>0.0</td>\n",
              "      <td>16.38</td>\n",
              "      <td>16.38</td>\n",
              "      <td>1</td>\n",
              "      <td>18.89</td>\n",
              "      <td>6</td>\n",
              "      <td>kamkkxfxxuwbdslkwifmmcsiusiuosws</td>\n",
              "      <td>13.800</td>\n",
              "      <td>0</td>\n",
              "    </tr>\n",
              "    <tr>\n",
              "      <th>3</th>\n",
              "      <td>764c75f661154dac3a6c254cd082ea7d</td>\n",
              "      <td>foosdfpfkusacimwkcsosbicdxkicaua</td>\n",
              "      <td>544</td>\n",
              "      <td>0</td>\n",
              "      <td>0</td>\n",
              "      <td>2010-04-16</td>\n",
              "      <td>2016-04-16</td>\n",
              "      <td>2010-04-16</td>\n",
              "      <td>2015-04-17</td>\n",
              "      <td>47.96</td>\n",
              "      <td>0</td>\n",
              "      <td>0.0</td>\n",
              "      <td>38.72</td>\n",
              "      <td>0.165794</td>\n",
              "      <td>0.087899</td>\n",
              "      <td>44.311378</td>\n",
              "      <td>f</td>\n",
              "      <td>0.0</td>\n",
              "      <td>28.60</td>\n",
              "      <td>28.60</td>\n",
              "      <td>1</td>\n",
              "      <td>6.60</td>\n",
              "      <td>6</td>\n",
              "      <td>kamkkxfxxuwbdslkwifmmcsiusiuosws</td>\n",
              "      <td>13.856</td>\n",
              "      <td>0</td>\n",
              "    </tr>\n",
              "    <tr>\n",
              "      <th>4</th>\n",
              "      <td>bba03439a292a1e166f80264c16191cb</td>\n",
              "      <td>lmkebamcaaclubfxadlmueccxoimlema</td>\n",
              "      <td>1584</td>\n",
              "      <td>0</td>\n",
              "      <td>0</td>\n",
              "      <td>2010-03-30</td>\n",
              "      <td>2016-03-30</td>\n",
              "      <td>2010-03-30</td>\n",
              "      <td>2015-03-31</td>\n",
              "      <td>240.04</td>\n",
              "      <td>0</td>\n",
              "      <td>0.0</td>\n",
              "      <td>19.83</td>\n",
              "      <td>0.146694</td>\n",
              "      <td>0.000000</td>\n",
              "      <td>44.311378</td>\n",
              "      <td>f</td>\n",
              "      <td>0.0</td>\n",
              "      <td>30.22</td>\n",
              "      <td>30.22</td>\n",
              "      <td>1</td>\n",
              "      <td>25.46</td>\n",
              "      <td>6</td>\n",
              "      <td>kamkkxfxxuwbdslkwifmmcsiusiuosws</td>\n",
              "      <td>13.200</td>\n",
              "      <td>0</td>\n",
              "    </tr>\n",
              "  </tbody>\n",
              "</table>\n",
              "</div>"
            ],
            "text/plain": [
              "                                 id  ... churn\n",
              "0  48ada52261e7cf58715202705a0451c9  ...     0\n",
              "1  24011ae4ebbe3035111d65fa7c15bc57  ...     1\n",
              "2  d29c2c54acc38ff3c0614d0a653813dd  ...     0\n",
              "3  764c75f661154dac3a6c254cd082ea7d  ...     0\n",
              "4  bba03439a292a1e166f80264c16191cb  ...     0\n",
              "\n",
              "[5 rows x 26 columns]"
            ]
          },
          "metadata": {
            "tags": []
          },
          "execution_count": 277
        }
      ]
    },
    {
      "cell_type": "code",
      "metadata": {
        "colab": {
          "base_uri": "https://localhost:8080/"
        },
        "id": "0u19Whmxucfx",
        "outputId": "e8fabaea-fa60-42cf-f53d-e923c2820339"
      },
      "source": [
        "merge2.dtypes"
      ],
      "execution_count": 290,
      "outputs": [
        {
          "output_type": "execute_result",
          "data": {
            "text/plain": [
              "id                           object\n",
              "channel_sales                object\n",
              "cons_12m                      int64\n",
              "cons_gas_12m                  int64\n",
              "cons_last_month               int64\n",
              "date_activ                   object\n",
              "date_end                     object\n",
              "date_modif_prod              object\n",
              "date_renewal                 object\n",
              "forecast_cons_12m           float64\n",
              "forecast_cons_year            int64\n",
              "forecast_discount_energy    float64\n",
              "forecast_meter_rent_12m     float64\n",
              "forecast_price_energy_p1    float64\n",
              "forecast_price_energy_p2    float64\n",
              "forecast_price_pow_p1       float64\n",
              "has_gas                      object\n",
              "imp_cons                    float64\n",
              "margin_gross_pow_ele        float64\n",
              "margin_net_pow_ele          float64\n",
              "nb_prod_act                   int64\n",
              "net_margin                  float64\n",
              "num_years_antig               int64\n",
              "origin_up                    object\n",
              "pow_max                     float64\n",
              "churn                         int64\n",
              "dtype: object"
            ]
          },
          "metadata": {
            "tags": []
          },
          "execution_count": 290
        }
      ]
    },
    {
      "cell_type": "markdown",
      "metadata": {
        "id": "igNtQWWGxO4o"
      },
      "source": [
        "# Association between Consumption and churn effect"
      ]
    },
    {
      "cell_type": "code",
      "metadata": {
        "id": "N09ErJTjvKoo"
      },
      "source": [
        "f, axs = plt.subplots(1, 2, figsize=(8, 4), gridspec_kw=dict(width_ratios=[4, 3]))\n",
        "sns.boxplot(x=\"churn\", y=\"cons_12m\", data=merge2, ax=axs[0])\n",
        "sns.boxplot(x=\"churn\", y=\"cons_gas_12m\", data=merge2, ax=axs[1])\n",
        "f.tight_layout()"
      ],
      "execution_count": null,
      "outputs": []
    },
    {
      "cell_type": "code",
      "metadata": {
        "id": "lx3O1M5Nv3Cg"
      },
      "source": [
        "ax = sns.boxplot(x=\"churn\", y=\"cons_last_month\", data=merge2)\n"
      ],
      "execution_count": null,
      "outputs": []
    },
    {
      "cell_type": "markdown",
      "metadata": {
        "id": "Xu9Fnm9CwYIn"
      },
      "source": [
        "From the box plots above, the  means for the consumption seem to be the same, but a few of the  customers who did not churn seem to have quite high figures!\n",
        "\n",
        "\n",
        "\n",
        "\n"
      ]
    },
    {
      "cell_type": "markdown",
      "metadata": {
        "id": "5j4s0xmGxD4j"
      },
      "source": [
        "# Association between projected consumption and churn effect"
      ]
    },
    {
      "cell_type": "code",
      "metadata": {
        "id": "Ky1P8S5xwG7K"
      },
      "source": [
        "ax = sns.boxplot(x=\"churn\", y=\"forecast_discount_energy\", data=merge2)\n"
      ],
      "execution_count": null,
      "outputs": []
    },
    {
      "cell_type": "code",
      "metadata": {
        "id": "JAaCWtmXvtXT"
      },
      "source": [
        "f, axs = plt.subplots(1, 2, figsize=(8, 4), gridspec_kw=dict(width_ratios=[4, 3]))\n",
        "sns.boxplot(x=\"churn\", y=\"forecast_cons_12m\", data=merge2, ax=axs[0])\n",
        "sns.boxplot(x=\"churn\", y=\"forecast_cons_year\", data=merge2, ax=axs[1])\n",
        "f.tight_layout()"
      ],
      "execution_count": null,
      "outputs": []
    },
    {
      "cell_type": "markdown",
      "metadata": {
        "id": "_l9vFld5xCvc"
      },
      "source": [
        "From the box plots above, the  means for the forecasted consumption  seem to be similar, but a few of the  customers who did not churn seem to have quite high figures!"
      ]
    },
    {
      "cell_type": "markdown",
      "metadata": {
        "id": "0YRhriOSx1kP"
      },
      "source": [
        "Association between the projected cost and the churn effect"
      ]
    },
    {
      "cell_type": "code",
      "metadata": {
        "colab": {
          "base_uri": "https://localhost:8080/",
          "height": 297
        },
        "id": "rggirDUBx5n8",
        "outputId": "ef6143b8-3b7a-4304-94df-336bf4e1c4fa"
      },
      "source": [
        "f, axs = plt.subplots(1, 2, figsize=(8, 4), gridspec_kw=dict(width_ratios=[4, 3]))\n",
        "sns.boxplot(x=\"churn\", y=\"forecast_price_energy_p2\", data=merge2, ax=axs[0])\n",
        "sns.boxplot(x=\"churn\", y=\"forecast_price_pow_p1\", data=merge2, ax=axs[1])\n",
        "f.tight_layout()"
      ],
      "execution_count": 296,
      "outputs": [
        {
          "output_type": "display_data",
          "data": {
            "image/png": "[encoded data removed]",
            "text/plain": [
              "<Figure size 576x288 with 2 Axes>"
            ]
          },
          "metadata": {
            "tags": []
          }
        }
      ]
    },
    {
      "cell_type": "code",
      "metadata": {
        "colab": {
          "base_uri": "https://localhost:8080/",
          "height": 297
        },
        "id": "wbMa9tsPx7qt",
        "outputId": "62d65e52-3518-454f-92a6-a986810e5236"
      },
      "source": [
        "f, axs = plt.subplots(1, 2, figsize=(8, 4), gridspec_kw=dict(width_ratios=[4, 3]))\n",
        "sns.boxplot(x=\"churn\", y=\"forecast_meter_rent_12m\", data=merge2, ax=axs[0])\n",
        "sns.boxplot(x=\"churn\", y=\"forecast_price_energy_p1\", data=merge2, ax=axs[1])\n",
        "f.tight_layout()"
      ],
      "execution_count": 297,
      "outputs": [
        {
          "output_type": "display_data",
          "data": {
            "image/png": "[encoded data removed]",
            "text/plain": [
              "<Figure size 576x288 with 2 Axes>"
            ]
          },
          "metadata": {
            "tags": []
          }
        }
      ]
    },
    {
      "cell_type": "code",
      "metadata": {
        "colab": {
          "base_uri": "https://localhost:8080/",
          "height": 279
        },
        "id": "l2Ug8G2px8jj",
        "outputId": "b323561e-f119-425c-e107-c519f81a0668"
      },
      "source": [
        "ax = sns.boxplot(x=\"churn\", y=\"forecast_discount_energy\", data=merge2)\n"
      ],
      "execution_count": 298,
      "outputs": [
        {
          "output_type": "display_data",
          "data": {
            "image/png": "[encoded data removed]",
            "text/plain": [
              "<Figure size 432x288 with 1 Axes>"
            ]
          },
          "metadata": {
            "tags": []
          }
        }
      ]
    },
    {
      "cell_type": "markdown",
      "metadata": {
        "id": "e3dmnSDmyK8K"
      },
      "source": [
        "Impression: No obvious difference!"
      ]
    },
    {
      "cell_type": "code",
      "metadata": {
        "colab": {
          "base_uri": "https://localhost:8080/",
          "height": 269
        },
        "id": "-W5Ka9kwzf4l",
        "outputId": "f20c80ce-d022-4745-b6de-b945c6e9182a"
      },
      "source": [
        "thisPlot = merge2[[\"id\",\"churn\",\"has_gas\"]] \n",
        "mosaic(thisPlot, ['churn','has_gas'])\n",
        "plt.show()"
      ],
      "execution_count": 307,
      "outputs": [
        {
          "output_type": "display_data",
          "data": {
            "image/png": "[encoded data removed]",
            "text/plain": [
              "<Figure size 432x288 with 3 Axes>"
            ]
          },
          "metadata": {
            "tags": []
          }
        }
      ]
    },
    {
      "cell_type": "code",
      "metadata": {
        "colab": {
          "base_uri": "https://localhost:8080/",
          "height": 296
        },
        "id": "bXh-MLXA1-4s",
        "outputId": "85f8938f-d011-434b-be0e-d5a451a5d2a9"
      },
      "source": [
        "sns.boxplot(x=\"churn\", y=\"imp_cons\", data=merge2)\n"
      ],
      "execution_count": 309,
      "outputs": [
        {
          "output_type": "execute_result",
          "data": {
            "text/plain": [
              "<matplotlib.axes._subplots.AxesSubplot at 0x7f90f9568110>"
            ]
          },
          "metadata": {
            "tags": []
          },
          "execution_count": 309
        },
        {
          "output_type": "display_data",
          "data": {
            "image/png": "[encoded data removed]",
            "text/plain": [
              "<Figure size 432x288 with 1 Axes>"
            ]
          },
          "metadata": {
            "tags": []
          }
        }
      ]
    },
    {
      "cell_type": "code",
      "metadata": {
        "colab": {
          "base_uri": "https://localhost:8080/",
          "height": 296
        },
        "id": "zxM6RkGl2lyR",
        "outputId": "27d2a234-e2bb-4db2-cbc7-6b412cdfef20"
      },
      "source": [
        "sns.boxplot(x=\"churn\", y=\"nb_prod_act\", data=merge2)\n"
      ],
      "execution_count": 310,
      "outputs": [
        {
          "output_type": "execute_result",
          "data": {
            "text/plain": [
              "<matplotlib.axes._subplots.AxesSubplot at 0x7f9114f8c350>"
            ]
          },
          "metadata": {
            "tags": []
          },
          "execution_count": 310
        },
        {
          "output_type": "display_data",
          "data": {
            "image/png": "[encoded data removed]",
            "text/plain": [
              "<Figure size 432x288 with 1 Axes>"
            ]
          },
          "metadata": {
            "tags": []
          }
        }
      ]
    },
    {
      "cell_type": "code",
      "metadata": {
        "colab": {
          "base_uri": "https://localhost:8080/",
          "height": 296
        },
        "id": "QmDFrgA62lna",
        "outputId": "6d13c26c-62e1-4e38-c78a-5ddbe7e56c89"
      },
      "source": [
        "sns.boxplot(x=\"churn\", y=\"net_margin\", data=merge2)\n"
      ],
      "execution_count": 311,
      "outputs": [
        {
          "output_type": "execute_result",
          "data": {
            "text/plain": [
              "<matplotlib.axes._subplots.AxesSubplot at 0x7f90f958b3d0>"
            ]
          },
          "metadata": {
            "tags": []
          },
          "execution_count": 311
        },
        {
          "output_type": "display_data",
          "data": {
            "image/png": "[encoded data removed]",
            "text/plain": [
              "<Figure size 432x288 with 1 Axes>"
            ]
          },
          "metadata": {
            "tags": []
          }
        }
      ]
    },
    {
      "cell_type": "code",
      "metadata": {
        "colab": {
          "base_uri": "https://localhost:8080/",
          "height": 296
        },
        "id": "9o9g02NI2lUa",
        "outputId": "b9c56eec-1cda-4df0-f6ea-88915af0c1f6"
      },
      "source": [
        "sns.boxplot(x=\"churn\", y=\"num_years_antig\", data=merge2)\n"
      ],
      "execution_count": 313,
      "outputs": [
        {
          "output_type": "execute_result",
          "data": {
            "text/plain": [
              "<matplotlib.axes._subplots.AxesSubplot at 0x7f9101d292d0>"
            ]
          },
          "metadata": {
            "tags": []
          },
          "execution_count": 313
        },
        {
          "output_type": "display_data",
          "data": {
            "image/png": "[encoded data removed]",
            "text/plain": [
              "<Figure size 432x288 with 1 Axes>"
            ]
          },
          "metadata": {
            "tags": []
          }
        }
      ]
    },
    {
      "cell_type": "code",
      "metadata": {
        "colab": {
          "base_uri": "https://localhost:8080/",
          "height": 297
        },
        "id": "350hAz8L1PqT",
        "outputId": "6eb86101-f3ea-48ba-bec8-c4447b72bb65"
      },
      "source": [
        "f, axs = plt.subplots(1, 2, figsize=(8, 4), gridspec_kw=dict(width_ratios=[4, 3]))\n",
        "sns.boxplot(x=\"churn\", y=\"margin_gross_pow_ele\", data=merge2, ax=axs[0])\n",
        "sns.boxplot(x=\"churn\", y=\"margin_net_pow_ele\", data=merge2, ax=axs[1])\n",
        "f.tight_layout()"
      ],
      "execution_count": 308,
      "outputs": [
        {
          "output_type": "display_data",
          "data": {
            "image/png": "[encoded data removed]",
            "text/plain": [
              "<Figure size 576x288 with 2 Axes>"
            ]
          },
          "metadata": {
            "tags": []
          }
        }
      ]
    },
    {
      "cell_type": "code",
      "metadata": {
        "colab": {
          "base_uri": "https://localhost:8080/",
          "height": 275
        },
        "id": "0KeChORv2r2u",
        "outputId": "1447d2e7-8107-4648-cec7-d10b657e1981"
      },
      "source": [
        "\n",
        "thisPlot = merge2[[\"id\",\"churn\",\"origin_up\"]] \n",
        "mosaic(thisPlot, ['churn','origin_up'])\n",
        "plt.show()"
      ],
      "execution_count": 318,
      "outputs": [
        {
          "output_type": "display_data",
          "data": {
            "image/png": "[encoded data removed]",
            "text/plain": [
              "<Figure size 432x288 with 3 Axes>"
            ]
          },
          "metadata": {
            "tags": []
          }
        }
      ]
    },
    {
      "cell_type": "code",
      "metadata": {
        "id": "tx1aFV3Bs-cv"
      },
      "source": [
        "\n",
        "if not os.path.exists(os.path.join(\"..\", \"processed_data\")):\n",
        " os.makedirs(os.path.join(\"..\", \"processed_data\"))\n"
      ],
      "execution_count": 281,
      "outputs": []
    },
    {
      "cell_type": "code",
      "metadata": {
        "id": "Ibah09Fu5LuH"
      },
      "source": [
        ""
      ],
      "execution_count": null,
      "outputs": []
    },
    {
      "cell_type": "markdown",
      "metadata": {
        "id": "Vont9VXO5LDQ"
      },
      "source": [
        "Overall impression: There seems to be some minor differences between the two categories.  However, no glaring differences.\n",
        "\n",
        "Way forward: The missing, and outliers will be taken care of in the pre-processing step."
      ]
    },
    {
      "cell_type": "markdown",
      "metadata": {
        "id": "RfH7VtC93INY"
      },
      "source": [
        "# Final preparation of the dataset"
      ]
    },
    {
      "cell_type": "code",
      "metadata": {
        "colab": {
          "base_uri": "https://localhost:8080/"
        },
        "id": "JNKNyJwG3Hci",
        "outputId": "cf2429cf-36cc-4666-c64c-8d7048b4e328"
      },
      "source": [
        "finalDateset = pd.merge(left=merge1, right=merge2, how='left', on='id')\n",
        "\n",
        "finalDateset.shape "
      ],
      "execution_count": 315,
      "outputs": [
        {
          "output_type": "execute_result",
          "data": {
            "text/plain": [
              "(193002, 34)"
            ]
          },
          "metadata": {
            "tags": []
          },
          "execution_count": 315
        }
      ]
    },
    {
      "cell_type": "code",
      "metadata": {
        "id": "3mnlBwD43xEX"
      },
      "source": [
        "finalDateset.head(5)"
      ],
      "execution_count": null,
      "outputs": []
    },
    {
      "cell_type": "code",
      "metadata": {
        "id": "rv8sF4ontgY2"
      },
      "source": [
        "finalDateset_DIR = os.path.join(\"..\", \"processed_data\", \"merge1_data.pkl\")\n"
      ],
      "execution_count": 320,
      "outputs": []
    },
    {
      "cell_type": "code",
      "metadata": {
        "id": "FtjB_H6otysr"
      },
      "source": [
        "pd.to_pickle(finalDateset, finalDateset_DIR)"
      ],
      "execution_count": 321,
      "outputs": []
    }
  ]
}